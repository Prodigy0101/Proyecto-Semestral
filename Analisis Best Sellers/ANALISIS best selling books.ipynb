{
 "cells": [
  {
   "cell_type": "markdown",
   "id": "ac5bd82c",
   "metadata": {},
   "source": [
    "Importamos las librerias necesarias para el analisis de datos."
   ]
  },
  {
   "cell_type": "code",
   "execution_count": 1,
   "id": "bdf34f86",
   "metadata": {},
   "outputs": [],
   "source": [
    "import pandas as pd\n",
    "import matplotlib.pyplot as plt\n"
   ]
  },
  {
   "cell_type": "markdown",
   "id": "fd548301",
   "metadata": {},
   "source": [
    "Leemos el archivo formato csv con la info que queremos buscar, y revisamos las columnas y posibles elementos nulos."
   ]
  },
  {
   "cell_type": "code",
   "execution_count": 2,
   "id": "c4f45d10",
   "metadata": {},
   "outputs": [
    {
     "name": "stdout",
     "output_type": "stream",
     "text": [
      "<class 'pandas.core.frame.DataFrame'>\n",
      "RangeIndex: 174 entries, 0 to 173\n",
      "Data columns (total 6 columns):\n",
      " #   Column                         Non-Null Count  Dtype  \n",
      "---  ------                         --------------  -----  \n",
      " 0   Book                           174 non-null    object \n",
      " 1   Author(s)                      174 non-null    object \n",
      " 2   Original language              174 non-null    object \n",
      " 3   First published                174 non-null    int64  \n",
      " 4   Approximate sales in millions  174 non-null    float64\n",
      " 5   Genre                          118 non-null    object \n",
      "dtypes: float64(1), int64(1), object(4)\n",
      "memory usage: 8.3+ KB\n"
     ]
    }
   ],
   "source": [
    "df = pd.read_csv('best-selling-books.csv')\n",
    "df.info()"
   ]
  },
  {
   "cell_type": "markdown",
   "id": "d9744794",
   "metadata": {},
   "source": [
    "Revisamos si hay filas duplicadas"
   ]
  },
  {
   "cell_type": "code",
   "execution_count": 3,
   "id": "cc28989c",
   "metadata": {},
   "outputs": [
    {
     "name": "stdout",
     "output_type": "stream",
     "text": [
      "Cantidad de filas duplicadas: 0\n"
     ]
    },
    {
     "data": {
      "text/html": [
       "<div>\n",
       "<style scoped>\n",
       "    .dataframe tbody tr th:only-of-type {\n",
       "        vertical-align: middle;\n",
       "    }\n",
       "\n",
       "    .dataframe tbody tr th {\n",
       "        vertical-align: top;\n",
       "    }\n",
       "\n",
       "    .dataframe thead th {\n",
       "        text-align: right;\n",
       "    }\n",
       "</style>\n",
       "<table border=\"1\" class=\"dataframe\">\n",
       "  <thead>\n",
       "    <tr style=\"text-align: right;\">\n",
       "      <th></th>\n",
       "      <th>Book</th>\n",
       "      <th>Author(s)</th>\n",
       "      <th>Original language</th>\n",
       "      <th>First published</th>\n",
       "      <th>Approximate sales in millions</th>\n",
       "      <th>Genre</th>\n",
       "    </tr>\n",
       "  </thead>\n",
       "  <tbody>\n",
       "  </tbody>\n",
       "</table>\n",
       "</div>"
      ],
      "text/plain": [
       "Empty DataFrame\n",
       "Columns: [Book, Author(s), Original language, First published, Approximate sales in millions, Genre]\n",
       "Index: []"
      ]
     },
     "execution_count": 3,
     "metadata": {},
     "output_type": "execute_result"
    }
   ],
   "source": [
    "print(f\"Cantidad de filas duplicadas: {df[df.duplicated].shape[0]:,}\")\n",
    "df[df.duplicated]"
   ]
  },
  {
   "cell_type": "markdown",
   "id": "27587d6e",
   "metadata": {},
   "source": [
    "Removemos las filas cuales tienen elementos nulos en la columna ```'Genre'``` y revisamos nuevamente."
   ]
  },
  {
   "cell_type": "code",
   "execution_count": 4,
   "id": "1cab6050",
   "metadata": {},
   "outputs": [
    {
     "name": "stdout",
     "output_type": "stream",
     "text": [
      "<class 'pandas.core.frame.DataFrame'>\n",
      "Index: 118 entries, 0 to 145\n",
      "Data columns (total 6 columns):\n",
      " #   Column                         Non-Null Count  Dtype  \n",
      "---  ------                         --------------  -----  \n",
      " 0   Book                           118 non-null    object \n",
      " 1   Author(s)                      118 non-null    object \n",
      " 2   Original language              118 non-null    object \n",
      " 3   First published                118 non-null    int64  \n",
      " 4   Approximate sales in millions  118 non-null    float64\n",
      " 5   Genre                          118 non-null    object \n",
      "dtypes: float64(1), int64(1), object(4)\n",
      "memory usage: 6.5+ KB\n"
     ]
    }
   ],
   "source": [
    "df_clean = df.dropna(subset=['Genre'])\n",
    "df_clean.info()"
   ]
  },
  {
   "cell_type": "markdown",
   "id": "f5ba8d10",
   "metadata": {},
   "source": [
    "Eliminamos espacios antes y después de los generos en la columna ```'Genre'``` y los estandarizamos haciendo que esten en minusculas."
   ]
  },
  {
   "cell_type": "code",
   "execution_count": 5,
   "id": "aa413e1e",
   "metadata": {},
   "outputs": [
    {
     "data": {
      "text/plain": [
       "array(['historical fiction', 'novella', 'fantasy', 'mystery',\n",
       "       'family saga', \"fantasy, children's fiction\", 'adventure',\n",
       "       'detective', 'mystery thriller', 'coming-of-age', 'romance',\n",
       "       'self-help', 'magic realism', 'novel', \"children's fiction\",\n",
       "       'manual', \"children's novel\", \"children's literature\",\n",
       "       'historical novel, mystery', 'war, thriller', 'sexology',\n",
       "       'novella, self-help', \"children's literature, picture book\",\n",
       "       'essay/literature', 'southern gothic, bildungsroman',\n",
       "       'gothic horror, family saga',\n",
       "       'popular science, anthropology, astrophysics, cosmology, philosophy, history',\n",
       "       'philosophical novel, young adult', 'mystery-thriller',\n",
       "       'socialist realist novel', 'historical novel',\n",
       "       'historical non-fiction, autobiography, memoir, bildungsroman / coming of age, jewish literature',\n",
       "       'romantic family saga', 'christian literature',\n",
       "       'bildungsroman, historical fiction', 'novel, tragedy',\n",
       "       'gothic novel',\n",
       "       'dystopian, political fiction, social science fiction', 'fiction',\n",
       "       'young adult fiction', 'young adult historical novel',\n",
       "       'self-help, motivational, business fable, psychology, leadership, parable',\n",
       "       'popular science', 'biographical novel', 'new-age spiritual novel',\n",
       "       'young adult romantic novel', 'thriller', 'crime novel',\n",
       "       'romance novel',\n",
       "       'young adult novel, adventure, dystopian, science fiction',\n",
       "       'young adult novel, adventure, war, science fiction, action thriller',\n",
       "       'japanese novel', 'science fiction novel', 'autobiography',\n",
       "       'crime thriller novel', 'war novel',\n",
       "       'satirical allegorical novella, political satire, dystopian fiction, roman à clef',\n",
       "       'semi-autobiographical novel', 'memoir',\n",
       "       \"children's literature, picture book, fiction\", 'feminist novel',\n",
       "       'pregnancy guide',\n",
       "       'picaresque novel, bildungsroman, satire, robinsonade',\n",
       "       'young adult novel', 'classic regency novel, romance',\n",
       "       'travel literature', 'unfinished satirical dark comedy novel',\n",
       "       \"children's picture book\", 'romantic novel',\n",
       "       \"children's fantasy novel\",\n",
       "       'social science, anthropology, psychology',\n",
       "       'coming-of-age murder mystery', 'autobiographical novel',\n",
       "       'historical fiction, war novel', 'erotica', 'science fiction',\n",
       "       'dystopian fiction', 'horror'], dtype=object)"
      ]
     },
     "execution_count": 5,
     "metadata": {},
     "output_type": "execute_result"
    }
   ],
   "source": [
    "df_clean_final = df_clean[df_clean['Genre'].str.strip() != '']\n",
    "df_clean_final['Genre'] = df_clean_final['Genre'].str.strip()\n",
    "df_clean_final['Genre'] = df_clean_final['Genre'].str.lower()\n",
    "df_clean_final['Genre'].unique()"
   ]
  },
  {
   "cell_type": "markdown",
   "id": "9c95e423",
   "metadata": {},
   "source": [
    "Buscamos los generos que nos interesan en ```'Genre'``` y los añadimos a un nuevo DataFrame."
   ]
  },
  {
   "cell_type": "code",
   "execution_count": 6,
   "id": "3acff19b",
   "metadata": {},
   "outputs": [
    {
     "name": "stdout",
     "output_type": "stream",
     "text": [
      "La cantidad de libros Best Sellers es: 118\n",
      "La cantidad de libros de estudios es: 4\n"
     ]
    },
    {
     "data": {
      "text/html": [
       "<div>\n",
       "<style scoped>\n",
       "    .dataframe tbody tr th:only-of-type {\n",
       "        vertical-align: middle;\n",
       "    }\n",
       "\n",
       "    .dataframe tbody tr th {\n",
       "        vertical-align: top;\n",
       "    }\n",
       "\n",
       "    .dataframe thead th {\n",
       "        text-align: right;\n",
       "    }\n",
       "</style>\n",
       "<table border=\"1\" class=\"dataframe\">\n",
       "  <thead>\n",
       "    <tr style=\"text-align: right;\">\n",
       "      <th></th>\n",
       "      <th>Book</th>\n",
       "      <th>Author(s)</th>\n",
       "      <th>Original language</th>\n",
       "      <th>First published</th>\n",
       "      <th>Approximate sales in millions</th>\n",
       "      <th>Genre</th>\n",
       "    </tr>\n",
       "  </thead>\n",
       "  <tbody>\n",
       "    <tr>\n",
       "      <th>36</th>\n",
       "      <td>A Message to Garcia</td>\n",
       "      <td>Elbert Hubbard</td>\n",
       "      <td>English</td>\n",
       "      <td>1899</td>\n",
       "      <td>40.0</td>\n",
       "      <td>essay/literature</td>\n",
       "    </tr>\n",
       "    <tr>\n",
       "      <th>39</th>\n",
       "      <td>Cosmos</td>\n",
       "      <td>Carl Sagan</td>\n",
       "      <td>English</td>\n",
       "      <td>1980</td>\n",
       "      <td>40.0</td>\n",
       "      <td>popular science, anthropology, astrophysics, c...</td>\n",
       "    </tr>\n",
       "    <tr>\n",
       "      <th>65</th>\n",
       "      <td>A Brief History of Time</td>\n",
       "      <td>Stephen Hawking</td>\n",
       "      <td>English</td>\n",
       "      <td>1988</td>\n",
       "      <td>25.0</td>\n",
       "      <td>popular science</td>\n",
       "    </tr>\n",
       "    <tr>\n",
       "      <th>105</th>\n",
       "      <td>The Naked Ape</td>\n",
       "      <td>Desmond Morris</td>\n",
       "      <td>English</td>\n",
       "      <td>1968</td>\n",
       "      <td>20.0</td>\n",
       "      <td>social science, anthropology, psychology</td>\n",
       "    </tr>\n",
       "  </tbody>\n",
       "</table>\n",
       "</div>"
      ],
      "text/plain": [
       "                        Book        Author(s) Original language  \\\n",
       "36       A Message to Garcia   Elbert Hubbard           English   \n",
       "39                    Cosmos       Carl Sagan           English   \n",
       "65   A Brief History of Time  Stephen Hawking           English   \n",
       "105            The Naked Ape   Desmond Morris           English   \n",
       "\n",
       "     First published  Approximate sales in millions  \\\n",
       "36              1899                           40.0   \n",
       "39              1980                           40.0   \n",
       "65              1988                           25.0   \n",
       "105             1968                           20.0   \n",
       "\n",
       "                                                 Genre  \n",
       "36                                    essay/literature  \n",
       "39   popular science, anthropology, astrophysics, c...  \n",
       "65                                     popular science  \n",
       "105           social science, anthropology, psychology  "
      ]
     },
     "execution_count": 6,
     "metadata": {},
     "output_type": "execute_result"
    }
   ],
   "source": [
    "generos_buscados = ['anthropology', 'astrophysics', 'philosophy,', \n",
    "                    'history', 'popular science', 'essay/literature', 'cosmology'\n",
    "                    , 'social science,']\n",
    "patron = '|'.join(generos_buscados)\n",
    "libros_estudio = df_clean_final[df_clean_final['Genre'].str.contains(patron, na=False)]\n",
    "print(f'La cantidad de libros Best Sellers es: {len(df_clean_final)}')\n",
    "print(f'La cantidad de libros de estudios es: {len(libros_estudio)}')\n",
    "libros_estudio.head()\n",
    "\n",
    "#Este codigo fue generado con ayuda de ChatGPT bajo el prompt: 'tengo un dataframe de pandas de libros los cuales tienen la columna 'Genre' como puedo buscar los genres que tengo en una lista en el dataframe'"
   ]
  },
  {
   "cell_type": "markdown",
   "id": "ca2a0779",
   "metadata": {},
   "source": [
    "Eliminamos los libros que queriamos encontrar del DataFrame con todos los libros y revisamos."
   ]
  },
  {
   "cell_type": "code",
   "execution_count": 7,
   "id": "27ee580a",
   "metadata": {},
   "outputs": [
    {
     "name": "stdout",
     "output_type": "stream",
     "text": [
      "<class 'pandas.core.frame.DataFrame'>\n",
      "Index: 114 entries, 0 to 145\n",
      "Data columns (total 6 columns):\n",
      " #   Column                         Non-Null Count  Dtype  \n",
      "---  ------                         --------------  -----  \n",
      " 0   Book                           114 non-null    object \n",
      " 1   Author(s)                      114 non-null    object \n",
      " 2   Original language              114 non-null    object \n",
      " 3   First published                114 non-null    int64  \n",
      " 4   Approximate sales in millions  114 non-null    float64\n",
      " 5   Genre                          114 non-null    object \n",
      "dtypes: float64(1), int64(1), object(4)\n",
      "memory usage: 6.2+ KB\n"
     ]
    }
   ],
   "source": [
    "nuevo_df = df_clean_final.drop(libros_estudio.index)\n",
    "nuevo_df.info()"
   ]
  },
  {
   "cell_type": "markdown",
   "id": "2cb033f1",
   "metadata": {},
   "source": [
    "Creamos un grafico para comparar ventas de los libros de estudio con las ventas de los demás libros."
   ]
  },
  {
   "cell_type": "code",
   "execution_count": 8,
   "id": "dd085324",
   "metadata": {},
   "outputs": [
    {
     "data": {
      "image/png": "[encoded data removed]",
      "text/plain": [
       "<Figure size 700x500 with 1 Axes>"
      ]
     },
     "metadata": {},
     "output_type": "display_data"
    },
    {
     "name": "stdout",
     "output_type": "stream",
     "text": [
      "Ventas totales aproximadas en millones de los libros de estudio: 125.0\n",
      "Ventas totales aproximadas en millones de libros de otros generos: 4449.0\n"
     ]
    }
   ],
   "source": [
    "total_ventas_estudio = libros_estudio['Approximate sales in millions'].sum().round()\n",
    "total_ventas_demas = nuevo_df['Approximate sales in millions'].sum().round()\n",
    "\n",
    "labels = ['Libros de estudio', 'Libros de otros generos']\n",
    "valores = [total_ventas_estudio, total_ventas_demas]\n",
    "fig, ax = plt.subplots(figsize=(7, 5))\n",
    "bars = ax.bar(labels, valores, color=['purple', 'green'], width=0.5)\n",
    "ax.set_ylabel('Ventas totales aproximadas en millones')\n",
    "ax.set_title('Comparacion de ventas de libros de estudios y libros de otros generos')\n",
    "plt.show()\n",
    "\n",
    "print(f'Ventas totales aproximadas en millones de los libros de estudio: {total_ventas_estudio}')\n",
    "print(f'Ventas totales aproximadas en millones de libros de otros generos: {total_ventas_demas}')"
   ]
  },
  {
   "cell_type": "markdown",
   "id": "c78ee65a",
   "metadata": {},
   "source": [
    "En base a estos datos podemos ver que tan solo 4 de los 118 libros Best Seller son libros de estudio, esto acompañado con la cantidad de ventas de 125 millones de ventas de libros de estudios a comparación de los 4449 millones de ventas de los libros de otros generos, nos permite concluir que el uso de libros de estudio en el Siglo XXI va cada vez mas en decadencia."
   ]
  }
 ],
 "metadata": {
  "kernelspec": {
   "display_name": "Python 3",
   "language": "python",
   "name": "python3"
  },
  "language_info": {
   "codemirror_mode": {
    "name": "ipython",
    "version": 3
   },
   "file_extension": ".py",
   "mimetype": "text/x-python",
   "name": "python",
   "nbconvert_exporter": "python",
   "pygments_lexer": "ipython3",
   "version": "3.12.9"
  }
 },
 "nbformat": 4,
 "nbformat_minor": 5
}
