{
 "cells": [
  {
   "cell_type": "markdown",
   "id": "cd895d75",
   "metadata": {},
   "source": [
    "Importamos las librerias necesarias para el analisis de datos."
   ]
  },
  {
   "cell_type": "code",
   "execution_count": 10,
   "id": "1edfff52",
   "metadata": {},
   "outputs": [],
   "source": [
    "import pandas as pd\n",
    "import matplotlib.pyplot as plt"
   ]
  },
  {
   "cell_type": "markdown",
   "id": "78eb16cd",
   "metadata": {},
   "source": [
    "Leemos el archivo formato csv con la info que queremos buscar, y revisamos las columnas y posibles elementos nulos."
   ]
  },
  {
   "cell_type": "code",
   "execution_count": 11,
   "id": "90ae5200",
   "metadata": {},
   "outputs": [
    {
     "name": "stdout",
     "output_type": "stream",
     "text": [
      "<class 'pandas.core.frame.DataFrame'>\n",
      "RangeIndex: 550 entries, 0 to 549\n",
      "Data columns (total 7 columns):\n",
      " #   Column       Non-Null Count  Dtype  \n",
      "---  ------       --------------  -----  \n",
      " 0   Name         550 non-null    object \n",
      " 1   Author       550 non-null    object \n",
      " 2   User Rating  550 non-null    float64\n",
      " 3   Reviews      550 non-null    int64  \n",
      " 4   Price        550 non-null    int64  \n",
      " 5   Year         550 non-null    int64  \n",
      " 6   Genre        550 non-null    object \n",
      "dtypes: float64(1), int64(3), object(3)\n",
      "memory usage: 30.2+ KB\n"
     ]
    }
   ],
   "source": [
    "df = pd.read_csv('bestsellers_with_categories.csv')\n",
    "df.info()"
   ]
  },
  {
   "cell_type": "markdown",
   "id": "42fe6356",
   "metadata": {},
   "source": [
    "Revisamos si hay filas duplicadas."
   ]
  },
  {
   "cell_type": "code",
   "execution_count": 12,
   "id": "7b0247cf",
   "metadata": {},
   "outputs": [
    {
     "name": "stdout",
     "output_type": "stream",
     "text": [
      "Cantidad de filas duplicadas: 0\n"
     ]
    },
    {
     "data": {
      "text/html": [
       "<div>\n",
       "<style scoped>\n",
       "    .dataframe tbody tr th:only-of-type {\n",
       "        vertical-align: middle;\n",
       "    }\n",
       "\n",
       "    .dataframe tbody tr th {\n",
       "        vertical-align: top;\n",
       "    }\n",
       "\n",
       "    .dataframe thead th {\n",
       "        text-align: right;\n",
       "    }\n",
       "</style>\n",
       "<table border=\"1\" class=\"dataframe\">\n",
       "  <thead>\n",
       "    <tr style=\"text-align: right;\">\n",
       "      <th></th>\n",
       "      <th>Name</th>\n",
       "      <th>Author</th>\n",
       "      <th>User Rating</th>\n",
       "      <th>Reviews</th>\n",
       "      <th>Price</th>\n",
       "      <th>Year</th>\n",
       "      <th>Genre</th>\n",
       "    </tr>\n",
       "  </thead>\n",
       "  <tbody>\n",
       "  </tbody>\n",
       "</table>\n",
       "</div>"
      ],
      "text/plain": [
       "Empty DataFrame\n",
       "Columns: [Name, Author, User Rating, Reviews, Price, Year, Genre]\n",
       "Index: []"
      ]
     },
     "execution_count": 12,
     "metadata": {},
     "output_type": "execute_result"
    }
   ],
   "source": [
    "print(f\"Cantidad de filas duplicadas: {df[df.duplicated].shape[0]:,}\")\n",
    "df[df.duplicated]"
   ]
  },
  {
   "cell_type": "markdown",
   "id": "2910101b",
   "metadata": {},
   "source": [
    "Vemos que no hay elementos nulos pero aplicaremos el codigo igualmente para prevenir."
   ]
  },
  {
   "cell_type": "code",
   "execution_count": 13,
   "id": "d416cc32",
   "metadata": {},
   "outputs": [
    {
     "name": "stdout",
     "output_type": "stream",
     "text": [
      "<class 'pandas.core.frame.DataFrame'>\n",
      "RangeIndex: 550 entries, 0 to 549\n",
      "Data columns (total 7 columns):\n",
      " #   Column       Non-Null Count  Dtype  \n",
      "---  ------       --------------  -----  \n",
      " 0   Name         550 non-null    object \n",
      " 1   Author       550 non-null    object \n",
      " 2   User Rating  550 non-null    float64\n",
      " 3   Reviews      550 non-null    int64  \n",
      " 4   Price        550 non-null    int64  \n",
      " 5   Year         550 non-null    int64  \n",
      " 6   Genre        550 non-null    object \n",
      "dtypes: float64(1), int64(3), object(3)\n",
      "memory usage: 30.2+ KB\n"
     ]
    }
   ],
   "source": [
    "df.dropna()\n",
    "df.info()"
   ]
  },
  {
   "cell_type": "markdown",
   "id": "36990ece",
   "metadata": {},
   "source": [
    "Vemos cuales son los generos de los libros."
   ]
  },
  {
   "cell_type": "code",
   "execution_count": 14,
   "id": "49442e7d",
   "metadata": {},
   "outputs": [
    {
     "data": {
      "text/plain": [
       "array(['Non Fiction', 'Fiction'], dtype=object)"
      ]
     },
     "execution_count": 14,
     "metadata": {},
     "output_type": "execute_result"
    }
   ],
   "source": [
    "df['Genre'].unique()"
   ]
  },
  {
   "cell_type": "markdown",
   "id": "3fbba098",
   "metadata": {},
   "source": [
    "Creamos un DataFrame de los libros que nos interesan y vemos sus años de publicación."
   ]
  },
  {
   "cell_type": "code",
   "execution_count": 15,
   "id": "99b6eb43",
   "metadata": {},
   "outputs": [
    {
     "name": "stdout",
     "output_type": "stream",
     "text": [
      "La cantidad de libros de estudios es: 10\n"
     ]
    },
    {
     "data": {
      "text/html": [
       "<div>\n",
       "<style scoped>\n",
       "    .dataframe tbody tr th:only-of-type {\n",
       "        vertical-align: middle;\n",
       "    }\n",
       "\n",
       "    .dataframe tbody tr th {\n",
       "        vertical-align: top;\n",
       "    }\n",
       "\n",
       "    .dataframe thead th {\n",
       "        text-align: right;\n",
       "    }\n",
       "</style>\n",
       "<table border=\"1\" class=\"dataframe\">\n",
       "  <thead>\n",
       "    <tr style=\"text-align: right;\">\n",
       "      <th></th>\n",
       "      <th>Name</th>\n",
       "      <th>Author</th>\n",
       "      <th>User Rating</th>\n",
       "      <th>Reviews</th>\n",
       "      <th>Price</th>\n",
       "      <th>Year</th>\n",
       "      <th>Genre</th>\n",
       "    </tr>\n",
       "  </thead>\n",
       "  <tbody>\n",
       "    <tr>\n",
       "      <th>11</th>\n",
       "      <td>A Patriot's History of the United States: From...</td>\n",
       "      <td>Larry Schweikart</td>\n",
       "      <td>4.6</td>\n",
       "      <td>460</td>\n",
       "      <td>2</td>\n",
       "      <td>2010</td>\n",
       "      <td>Non Fiction</td>\n",
       "    </tr>\n",
       "    <tr>\n",
       "      <th>23</th>\n",
       "      <td>American Sniper: The Autobiography of the Most...</td>\n",
       "      <td>Chris Kyle</td>\n",
       "      <td>4.6</td>\n",
       "      <td>15921</td>\n",
       "      <td>9</td>\n",
       "      <td>2015</td>\n",
       "      <td>Non Fiction</td>\n",
       "    </tr>\n",
       "    <tr>\n",
       "      <th>354</th>\n",
       "      <td>The China Study: The Most Comprehensive Study ...</td>\n",
       "      <td>Thomas Campbell</td>\n",
       "      <td>4.7</td>\n",
       "      <td>4633</td>\n",
       "      <td>21</td>\n",
       "      <td>2011</td>\n",
       "      <td>Non Fiction</td>\n",
       "    </tr>\n",
       "    <tr>\n",
       "      <th>439</th>\n",
       "      <td>The Official SAT Study Guide</td>\n",
       "      <td>The College Board</td>\n",
       "      <td>4.4</td>\n",
       "      <td>1201</td>\n",
       "      <td>40</td>\n",
       "      <td>2010</td>\n",
       "      <td>Non Fiction</td>\n",
       "    </tr>\n",
       "    <tr>\n",
       "      <th>440</th>\n",
       "      <td>The Official SAT Study Guide</td>\n",
       "      <td>The College Board</td>\n",
       "      <td>4.4</td>\n",
       "      <td>1201</td>\n",
       "      <td>40</td>\n",
       "      <td>2011</td>\n",
       "      <td>Non Fiction</td>\n",
       "    </tr>\n",
       "  </tbody>\n",
       "</table>\n",
       "</div>"
      ],
      "text/plain": [
       "                                                  Name             Author  \\\n",
       "11   A Patriot's History of the United States: From...   Larry Schweikart   \n",
       "23   American Sniper: The Autobiography of the Most...         Chris Kyle   \n",
       "354  The China Study: The Most Comprehensive Study ...    Thomas Campbell   \n",
       "439                       The Official SAT Study Guide  The College Board   \n",
       "440                       The Official SAT Study Guide  The College Board   \n",
       "\n",
       "     User Rating  Reviews  Price  Year        Genre  \n",
       "11           4.6      460      2  2010  Non Fiction  \n",
       "23           4.6    15921      9  2015  Non Fiction  \n",
       "354          4.7     4633     21  2011  Non Fiction  \n",
       "439          4.4     1201     40  2010  Non Fiction  \n",
       "440          4.4     1201     40  2011  Non Fiction  "
      ]
     },
     "execution_count": 15,
     "metadata": {},
     "output_type": "execute_result"
    }
   ],
   "source": [
    "palabras_clave = ['Study' ,'study', 'Studies', 'studies', 'Essay',\n",
    "                'essay', 'Essays', 'essays', 'History', 'history', \n",
    "                'Science', 'science', 'Math', 'math', 'Economics',\n",
    "                'economics']\n",
    "patron = '|'.join(palabras_clave)\n",
    "libros_estudio = df[df['Name'].str.contains(patron, na=False)]\n",
    "print(f'La cantidad de libros de estudios es: {len(libros_estudio)}')\n",
    "libros_estudio.head()\n"
   ]
  },
  {
   "cell_type": "code",
   "execution_count": 16,
   "id": "048259ab",
   "metadata": {},
   "outputs": [
    {
     "name": "stdout",
     "output_type": "stream",
     "text": [
      "Los años de publicación de los libros van de 2009 a 2019\n",
      "Los años de publicación de los libros de estudio van de 2010 a 2018\n"
     ]
    }
   ],
   "source": [
    "print(f'Los años de publicación de los libros van de {df['Year'].min()} a {df['Year'].max()}')\n",
    "print(f'Los años de publicación de los libros de estudio van de {libros_estudio['Year'].min()} a {libros_estudio['Year'].max()}')\n"
   ]
  },
  {
   "cell_type": "markdown",
   "id": "f4ef34fd",
   "metadata": {},
   "source": [
    "Comparamos la cantidad de libros de estudio con la cantidad de libros de otros generos."
   ]
  },
  {
   "cell_type": "code",
   "execution_count": 17,
   "id": "6dd386da",
   "metadata": {},
   "outputs": [
    {
     "name": "stdout",
     "output_type": "stream",
     "text": [
      "La cantidad de libros de estudio es: 10\n",
      "La cantidad de libros de otros generos es: 540\n"
     ]
    }
   ],
   "source": [
    "df_otros_generos = df.drop(libros_estudio.index)\n",
    "print(f'La cantidad de libros de estudio es: {len(libros_estudio)}')\n",
    "print(f'La cantidad de libros de otros generos es: {len(df_otros_generos)}')"
   ]
  },
  {
   "cell_type": "markdown",
   "id": "d7a62f77",
   "metadata": {},
   "source": [
    "En base a estos datos podemos ver que la cantidad de libros de estudio es considerablemente menor a la cantidad de libros de otros generos, esto nos permite concluir que, al igual que en el otro caso de estudio, el uso de los libros de estudio van cada vez mas en decadencia."
   ]
  },
  {
   "cell_type": "markdown",
   "id": "579d9eed",
   "metadata": {},
   "source": [
    "También vemos que la diferencia en los de publicación de los libros de estudio con los demás libros no es lo suficientemente amplia como para considerarlo un factor que altere los resultados."
   ]
  }
 ],
 "metadata": {
  "kernelspec": {
   "display_name": "Python 3",
   "language": "python",
   "name": "python3"
  },
  "language_info": {
   "codemirror_mode": {
    "name": "ipython",
    "version": 3
   },
   "file_extension": ".py",
   "mimetype": "text/x-python",
   "name": "python",
   "nbconvert_exporter": "python",
   "pygments_lexer": "ipython3",
   "version": "3.12.9"
  }
 },
 "nbformat": 4,
 "nbformat_minor": 5
}
