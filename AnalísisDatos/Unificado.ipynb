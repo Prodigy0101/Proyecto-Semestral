{
 "cells": [
  {
   "cell_type": "markdown",
   "id": "357c76cf",
   "metadata": {},
   "source": [
    "<h1 style=\"\n",
    "    font-size: 38px;\n",
    "    text-align: center;\n",
    "    color: #F8C471;   /* amarillo cálido, contraste alto */\n",
    "    margin-bottom: 20px;\n",
    "\">\n",
    "📘 CONTEXTO Y MOTIVACIÓN\n",
    "</h1>\n",
    "\n",
    "<div style=\"\n",
    "    background-color: #1C1C1C;   /* negro carbón para alto contraste */\n",
    "    border-left: 6px solid #F8C471;   /* mismo amarillo del título */\n",
    "    padding: 25px;\n",
    "    border-radius: 12px;\n",
    "    font-size: 18px;\n",
    "    line-height: 1.8;\n",
    "    color: #FDFEFE;  /* blanco suave para leer fácil */\n",
    "    font-family: 'Segoe UI', sans-serif;\n",
    "    max-width: 800px;      /* ancho limitado para lectura cómoda */\n",
    "    margin: auto;          /* centrado */\n",
    "    box-shadow: 0 0 12px rgba(248, 196, 113, 0.3); /* sombra suave */\n",
    "    overflow-wrap: break-word; /* evita que palabras largas se salgan */\n",
    "\">\n",
    "La principal motivación para la elección de nuestro proyecto surgió del interés compartido por la tecnología y las experiencias que se viven día a día en la universidad. Inicialmente, no hubo un consenso inmediato, ya que la elección del tema tomó varios días de discusión.\n",
    "\n",
    "<br><br>\n",
    "\n",
    "El contexto que dio origen a nuestra idea se presentó en la <b>Biblioteca SJ (San Joaquín)</b>, cuando escuchamos a alguien mencionar: <i>“Resolver una tarea con ChatGPT”</i>. Esa simple frase despertó nuestra curiosidad y nos llevó a preguntarnos sobre <b>“El uso de la inteligencia artificial en universidades”</b>. Al investigar más a fondo, encontramos un estudio que nos inspiró a profundizar en esta temática: <b><i>Your Brain on ChatGPT – MIT Media Lab</i></b>.\n",
    "\n",
    "<br><br>\n",
    "\n",
    "Sin embargo, tras analizarlo, consideramos que el tema estaba bastante explorado, por lo que decidimos ampliarlo y buscar un enfoque más innovador. En este proceso, otro estudio que orientó nuestra pregunta de investigación fue: <b><i>Impacto de las tecnologías en el aprendizaje – Convivencia Digital</i></b>.\n",
    "\n",
    "<br><br>\n",
    "\n",
    "Nuestro público objetivo son principalmente <b>estudiantes universitarios</b> interesados en la relación entre tecnología y educación, aunque creemos que el tema es relevante y puede resultar interesante para cualquier persona curiosa sobre los efectos de la tecnología en el aprendizaje.\n",
    "</div>\n",
    "\n",
    "\n"
   ]
  },
  {
   "cell_type": "markdown",
   "id": "4ab8ce66",
   "metadata": {},
   "source": [
    "<div style=\"\n",
    "    background-color:#1e1e1e;\n",
    "    color:#f0f0f0;\n",
    "    padding:20px;\n",
    "    border-radius:12px;\n",
    "    font-family:'Segoe UI',sans-serif;\n",
    "    line-height:1.6;\n",
    "    font-size:17px;\n",
    "    max-width:100%;\n",
    "    overflow-wrap:break-word;\n",
    "    word-wrap:break-word;\n",
    "    box-sizing:border-box;\n",
    "\">\n",
    "    <h2 style=\"color:#ffcc00; text-align:center; font-size:26px; margin-top:0;\">PREGUNTAS</h2>\n",
    "    <ul style=\"list-style-type:none; padding-left:0; text-align:justify;\">\n",
    "        <li><strong>¿Cuánto ha aumentado la existencia o exportación de aparatos electrónicos en Chile en el siglo XXI?</strong></li>\n",
    "        <br>\n",
    "        <li><strong>¿Qué tipo de aparato electrónico es el más usado en el siglo XXI a lo largo del tiempo?</strong></li>\n",
    "        <br>\n",
    "        <li><strong>¿Cómo ha ido variando el uso de libros para estudio durante el siglo XXI?</strong></li>\n",
    "        <br>\n",
    "        <li><strong>¿Cuánto ha aumentado el uso de la IA durante los últimos años?</strong></li>\n",
    "        <br>\n",
    "        <li><strong>¿Existe alguna correlación entre el aumento del uso de IA y el rendimiento de los estudiantes? Y, de ser así, ¿cómo se manifiesta esta relación?</strong></li>\n",
    "    </ul>\n",
    "</div>\n",
    "\n",
    "\n",
    "\n"
   ]
  },
  {
   "cell_type": "markdown",
   "id": "1fb38419",
   "metadata": {},
   "source": [
    "<div style=\"\n",
    "    background-color:#181818;\n",
    "    color:#f8f8f2;\n",
    "    padding:25px;\n",
    "    border-radius:15px;\n",
    "    font-family:'Segoe UI',sans-serif;\n",
    "    font-size:17px;\n",
    "    line-height:1.7;\n",
    "    word-wrap:break-word;\n",
    "    overflow-wrap:break-word;\n",
    "    max-width:100%;\n",
    "    box-sizing:border-box;\n",
    "\">\n",
    "\n",
    "<h2 style=\"color:#50fa7b; text-align:center; font-size:28px; margin-top:0;\">DATOS</h2>\n",
    "<hr style=\"border:1px solid #444; margin-bottom:20px;\">\n",
    "\n",
    "<p><b style=\"color:#ffb86c;\">ExportacionComputadoresCelularesChile.xlsx</b><br>\n",
    "Archivo del Banco Central que muestra, en millones de dólares, las exportaciones de computadores y celulares desde 2003 hasta 2025. <i>Tipo estructurado.</i></p>\n",
    "\n",
    "<p><b style=\"color:#ffb86c;\">Reading Habits Based on Gender Undergraduate Students Dataset on Book Preferences and Engagement.xlsx</b><br>\n",
    "Archivo que muestra distintos hábitos de lectura de estudiantes de pregrado en Bangladesh entre mayo de 2024 y enero de 2025. <i>Tipo estructurado.</i></p>\n",
    "\n",
    "<p><b style=\"color:#ffb86c;\">TraficoChileDispositivos.csv</b><br>\n",
    "Archivo que muestra el tráfico de personas en internet en dispositivos como tablets, celulares y computadores en Chile desde enero de 2009 hasta agosto de 2025. <i>Tipo estructurado.</i></p>\n",
    "\n",
    "<p><b style=\"color:#ffb86c;\">TraficoGlobalDispositivos.csv</b><br>\n",
    "Archivo que muestra el tráfico de personas en internet en dispositivos como tablets, celulares y computadores a nivel global desde enero de 2009 hasta agosto de 2025. <i>Tipo estructurado.</i></p>\n",
    "\n",
    "\n",
    "\n",
    "<p><b style=\"color:#ffb86c;\">The Impact of AI and ChatGPT on Bangladeshi University Students.csv</b><br>\n",
    "Archivo que contiene una encuesta sobre la percepción que tienen estudiantes de Bangladesh acerca de la IA y su impacto en el ámbito universitario. Datos recolectados desde junio de 2024 a enero de 2025.</p>\n",
    "\n",
    "<p><b style=\"color:#ffb86c;\">Múltiples archivos CSV y XLSX de NEM</b><br>\n",
    "Archivos provenientes del centro de estudios Mineduc, que contienen el rendimiento de estudiantes de enseñanza básica y media, considerando los últimos 10 años. <i>Tipo estructurado.</i></p>\n",
    "\n",
    "\n",
    "\n",
    "<p><b style=\"color:#ffb86c;\">bestsellers_with_categories.csv</b><br>\n",
    "Archivo que contiene los bestsellers de Amazon por año y sus ventas.</p>\n",
    "\n",
    "<p><b style=\"color:#ffb86c;\">best-selling-books.csv</b><br>\n",
    "Archivo que contiene diversos libros con su año de publicación y sus ventas.</p>\n",
    "\n",
    "</div>\n",
    "\n"
   ]
  },
  {
   "cell_type": "markdown",
   "id": "fc0aa440",
   "metadata": {},
   "source": [
    "<h1 style=\"color:#FFD700; text-align:center; font-family:'Segoe UI',sans-serif;\">ANÁLISIS EXPLORATORIO</h1>\n"
   ]
  },
  {
   "cell_type": "markdown",
   "id": "50463552",
   "metadata": {},
   "source": [
    "<div style=\"text-align:center;\">\n",
    "  <h2 style=\"\n",
    "      color:#FF69B4; \n",
    "      font-family:'Segoe UI',sans-serif; \n",
    "      font-size:26px; \n",
    "      background-color:#1e1e2f; \n",
    "      padding:10px 20px; \n",
    "      border-radius:12px;\n",
    "      display:inline-block;\n",
    "      margin-bottom:5px;\n",
    "  \">\n",
    "    TraficoChileDispositivos.csv\n",
    "  </h2>\n",
    "  <p style=\"\n",
    "      color:#FAA18F; \n",
    "      font-family:'Segoe UI',sans-serif; \n",
    "      font-size:14px; \n",
    "      font-style:italic;\n",
    "      margin-top:0;\n",
    "  \">\n",
    "    Analizado por Alex Nieves\n",
    "  </p>\n",
    "</div>\n"
   ]
  },
  {
   "cell_type": "code",
   "execution_count": 8,
   "id": "79acc43e",
   "metadata": {},
   "outputs": [
    {
     "ename": "FileNotFoundError",
     "evalue": "[Errno 2] No such file or directory: 'ArchivosDatos/TraficoChileDispositivos.csv'",
     "output_type": "error",
     "traceback": [
      "\u001b[31m---------------------------------------------------------------------------\u001b[39m",
      "\u001b[31mFileNotFoundError\u001b[39m                         Traceback (most recent call last)",
      "\u001b[36mCell\u001b[39m\u001b[36m \u001b[39m\u001b[32mIn[8]\u001b[39m\u001b[32m, line 9\u001b[39m\n\u001b[32m      5\u001b[39m \u001b[38;5;28;01mimport\u001b[39;00m\u001b[38;5;250m \u001b[39m\u001b[34;01mmatplotlib\u001b[39;00m\u001b[34;01m.\u001b[39;00m\u001b[34;01mpyplot\u001b[39;00m\u001b[38;5;250m \u001b[39m\u001b[38;5;28;01mas\u001b[39;00m\u001b[38;5;250m \u001b[39m\u001b[34;01mplt\u001b[39;00m\n\u001b[32m      8\u001b[39m \u001b[38;5;66;03m# Leemos el archivo y comprobemos cargue bien\u001b[39;00m\n\u001b[32m----> \u001b[39m\u001b[32m9\u001b[39m df = \u001b[43mpd\u001b[49m\u001b[43m.\u001b[49m\u001b[43mread_csv\u001b[49m\u001b[43m(\u001b[49m\u001b[33;43m\"\u001b[39;49m\u001b[33;43mArchivosDatos/TraficoChileDispositivos.csv\u001b[39;49m\u001b[33;43m\"\u001b[39;49m\u001b[43m)\u001b[49m\n\u001b[32m     11\u001b[39m df.head()\n",
      "\u001b[36mFile \u001b[39m\u001b[32mc:\\Users\\alexn\\AppData\\Local\\Programs\\Python\\Python312\\Lib\\site-packages\\pandas\\io\\parsers\\readers.py:1026\u001b[39m, in \u001b[36mread_csv\u001b[39m\u001b[34m(filepath_or_buffer, sep, delimiter, header, names, index_col, usecols, dtype, engine, converters, true_values, false_values, skipinitialspace, skiprows, skipfooter, nrows, na_values, keep_default_na, na_filter, verbose, skip_blank_lines, parse_dates, infer_datetime_format, keep_date_col, date_parser, date_format, dayfirst, cache_dates, iterator, chunksize, compression, thousands, decimal, lineterminator, quotechar, quoting, doublequote, escapechar, comment, encoding, encoding_errors, dialect, on_bad_lines, delim_whitespace, low_memory, memory_map, float_precision, storage_options, dtype_backend)\u001b[39m\n\u001b[32m   1013\u001b[39m kwds_defaults = _refine_defaults_read(\n\u001b[32m   1014\u001b[39m     dialect,\n\u001b[32m   1015\u001b[39m     delimiter,\n\u001b[32m   (...)\u001b[39m\u001b[32m   1022\u001b[39m     dtype_backend=dtype_backend,\n\u001b[32m   1023\u001b[39m )\n\u001b[32m   1024\u001b[39m kwds.update(kwds_defaults)\n\u001b[32m-> \u001b[39m\u001b[32m1026\u001b[39m \u001b[38;5;28;01mreturn\u001b[39;00m \u001b[43m_read\u001b[49m\u001b[43m(\u001b[49m\u001b[43mfilepath_or_buffer\u001b[49m\u001b[43m,\u001b[49m\u001b[43m \u001b[49m\u001b[43mkwds\u001b[49m\u001b[43m)\u001b[49m\n",
      "\u001b[36mFile \u001b[39m\u001b[32mc:\\Users\\alexn\\AppData\\Local\\Programs\\Python\\Python312\\Lib\\site-packages\\pandas\\io\\parsers\\readers.py:620\u001b[39m, in \u001b[36m_read\u001b[39m\u001b[34m(filepath_or_buffer, kwds)\u001b[39m\n\u001b[32m    617\u001b[39m _validate_names(kwds.get(\u001b[33m\"\u001b[39m\u001b[33mnames\u001b[39m\u001b[33m\"\u001b[39m, \u001b[38;5;28;01mNone\u001b[39;00m))\n\u001b[32m    619\u001b[39m \u001b[38;5;66;03m# Create the parser.\u001b[39;00m\n\u001b[32m--> \u001b[39m\u001b[32m620\u001b[39m parser = \u001b[43mTextFileReader\u001b[49m\u001b[43m(\u001b[49m\u001b[43mfilepath_or_buffer\u001b[49m\u001b[43m,\u001b[49m\u001b[43m \u001b[49m\u001b[43m*\u001b[49m\u001b[43m*\u001b[49m\u001b[43mkwds\u001b[49m\u001b[43m)\u001b[49m\n\u001b[32m    622\u001b[39m \u001b[38;5;28;01mif\u001b[39;00m chunksize \u001b[38;5;129;01mor\u001b[39;00m iterator:\n\u001b[32m    623\u001b[39m     \u001b[38;5;28;01mreturn\u001b[39;00m parser\n",
      "\u001b[36mFile \u001b[39m\u001b[32mc:\\Users\\alexn\\AppData\\Local\\Programs\\Python\\Python312\\Lib\\site-packages\\pandas\\io\\parsers\\readers.py:1620\u001b[39m, in \u001b[36mTextFileReader.__init__\u001b[39m\u001b[34m(self, f, engine, **kwds)\u001b[39m\n\u001b[32m   1617\u001b[39m     \u001b[38;5;28mself\u001b[39m.options[\u001b[33m\"\u001b[39m\u001b[33mhas_index_names\u001b[39m\u001b[33m\"\u001b[39m] = kwds[\u001b[33m\"\u001b[39m\u001b[33mhas_index_names\u001b[39m\u001b[33m\"\u001b[39m]\n\u001b[32m   1619\u001b[39m \u001b[38;5;28mself\u001b[39m.handles: IOHandles | \u001b[38;5;28;01mNone\u001b[39;00m = \u001b[38;5;28;01mNone\u001b[39;00m\n\u001b[32m-> \u001b[39m\u001b[32m1620\u001b[39m \u001b[38;5;28mself\u001b[39m._engine = \u001b[38;5;28;43mself\u001b[39;49m\u001b[43m.\u001b[49m\u001b[43m_make_engine\u001b[49m\u001b[43m(\u001b[49m\u001b[43mf\u001b[49m\u001b[43m,\u001b[49m\u001b[43m \u001b[49m\u001b[38;5;28;43mself\u001b[39;49m\u001b[43m.\u001b[49m\u001b[43mengine\u001b[49m\u001b[43m)\u001b[49m\n",
      "\u001b[36mFile \u001b[39m\u001b[32mc:\\Users\\alexn\\AppData\\Local\\Programs\\Python\\Python312\\Lib\\site-packages\\pandas\\io\\parsers\\readers.py:1880\u001b[39m, in \u001b[36mTextFileReader._make_engine\u001b[39m\u001b[34m(self, f, engine)\u001b[39m\n\u001b[32m   1878\u001b[39m     \u001b[38;5;28;01mif\u001b[39;00m \u001b[33m\"\u001b[39m\u001b[33mb\u001b[39m\u001b[33m\"\u001b[39m \u001b[38;5;129;01mnot\u001b[39;00m \u001b[38;5;129;01min\u001b[39;00m mode:\n\u001b[32m   1879\u001b[39m         mode += \u001b[33m\"\u001b[39m\u001b[33mb\u001b[39m\u001b[33m\"\u001b[39m\n\u001b[32m-> \u001b[39m\u001b[32m1880\u001b[39m \u001b[38;5;28mself\u001b[39m.handles = \u001b[43mget_handle\u001b[49m\u001b[43m(\u001b[49m\n\u001b[32m   1881\u001b[39m \u001b[43m    \u001b[49m\u001b[43mf\u001b[49m\u001b[43m,\u001b[49m\n\u001b[32m   1882\u001b[39m \u001b[43m    \u001b[49m\u001b[43mmode\u001b[49m\u001b[43m,\u001b[49m\n\u001b[32m   1883\u001b[39m \u001b[43m    \u001b[49m\u001b[43mencoding\u001b[49m\u001b[43m=\u001b[49m\u001b[38;5;28;43mself\u001b[39;49m\u001b[43m.\u001b[49m\u001b[43moptions\u001b[49m\u001b[43m.\u001b[49m\u001b[43mget\u001b[49m\u001b[43m(\u001b[49m\u001b[33;43m\"\u001b[39;49m\u001b[33;43mencoding\u001b[39;49m\u001b[33;43m\"\u001b[39;49m\u001b[43m,\u001b[49m\u001b[43m \u001b[49m\u001b[38;5;28;43;01mNone\u001b[39;49;00m\u001b[43m)\u001b[49m\u001b[43m,\u001b[49m\n\u001b[32m   1884\u001b[39m \u001b[43m    \u001b[49m\u001b[43mcompression\u001b[49m\u001b[43m=\u001b[49m\u001b[38;5;28;43mself\u001b[39;49m\u001b[43m.\u001b[49m\u001b[43moptions\u001b[49m\u001b[43m.\u001b[49m\u001b[43mget\u001b[49m\u001b[43m(\u001b[49m\u001b[33;43m\"\u001b[39;49m\u001b[33;43mcompression\u001b[39;49m\u001b[33;43m\"\u001b[39;49m\u001b[43m,\u001b[49m\u001b[43m \u001b[49m\u001b[38;5;28;43;01mNone\u001b[39;49;00m\u001b[43m)\u001b[49m\u001b[43m,\u001b[49m\n\u001b[32m   1885\u001b[39m \u001b[43m    \u001b[49m\u001b[43mmemory_map\u001b[49m\u001b[43m=\u001b[49m\u001b[38;5;28;43mself\u001b[39;49m\u001b[43m.\u001b[49m\u001b[43moptions\u001b[49m\u001b[43m.\u001b[49m\u001b[43mget\u001b[49m\u001b[43m(\u001b[49m\u001b[33;43m\"\u001b[39;49m\u001b[33;43mmemory_map\u001b[39;49m\u001b[33;43m\"\u001b[39;49m\u001b[43m,\u001b[49m\u001b[43m \u001b[49m\u001b[38;5;28;43;01mFalse\u001b[39;49;00m\u001b[43m)\u001b[49m\u001b[43m,\u001b[49m\n\u001b[32m   1886\u001b[39m \u001b[43m    \u001b[49m\u001b[43mis_text\u001b[49m\u001b[43m=\u001b[49m\u001b[43mis_text\u001b[49m\u001b[43m,\u001b[49m\n\u001b[32m   1887\u001b[39m \u001b[43m    \u001b[49m\u001b[43merrors\u001b[49m\u001b[43m=\u001b[49m\u001b[38;5;28;43mself\u001b[39;49m\u001b[43m.\u001b[49m\u001b[43moptions\u001b[49m\u001b[43m.\u001b[49m\u001b[43mget\u001b[49m\u001b[43m(\u001b[49m\u001b[33;43m\"\u001b[39;49m\u001b[33;43mencoding_errors\u001b[39;49m\u001b[33;43m\"\u001b[39;49m\u001b[43m,\u001b[49m\u001b[43m \u001b[49m\u001b[33;43m\"\u001b[39;49m\u001b[33;43mstrict\u001b[39;49m\u001b[33;43m\"\u001b[39;49m\u001b[43m)\u001b[49m\u001b[43m,\u001b[49m\n\u001b[32m   1888\u001b[39m \u001b[43m    \u001b[49m\u001b[43mstorage_options\u001b[49m\u001b[43m=\u001b[49m\u001b[38;5;28;43mself\u001b[39;49m\u001b[43m.\u001b[49m\u001b[43moptions\u001b[49m\u001b[43m.\u001b[49m\u001b[43mget\u001b[49m\u001b[43m(\u001b[49m\u001b[33;43m\"\u001b[39;49m\u001b[33;43mstorage_options\u001b[39;49m\u001b[33;43m\"\u001b[39;49m\u001b[43m,\u001b[49m\u001b[43m \u001b[49m\u001b[38;5;28;43;01mNone\u001b[39;49;00m\u001b[43m)\u001b[49m\u001b[43m,\u001b[49m\n\u001b[32m   1889\u001b[39m \u001b[43m\u001b[49m\u001b[43m)\u001b[49m\n\u001b[32m   1890\u001b[39m \u001b[38;5;28;01massert\u001b[39;00m \u001b[38;5;28mself\u001b[39m.handles \u001b[38;5;129;01mis\u001b[39;00m \u001b[38;5;129;01mnot\u001b[39;00m \u001b[38;5;28;01mNone\u001b[39;00m\n\u001b[32m   1891\u001b[39m f = \u001b[38;5;28mself\u001b[39m.handles.handle\n",
      "\u001b[36mFile \u001b[39m\u001b[32mc:\\Users\\alexn\\AppData\\Local\\Programs\\Python\\Python312\\Lib\\site-packages\\pandas\\io\\common.py:873\u001b[39m, in \u001b[36mget_handle\u001b[39m\u001b[34m(path_or_buf, mode, encoding, compression, memory_map, is_text, errors, storage_options)\u001b[39m\n\u001b[32m    868\u001b[39m \u001b[38;5;28;01melif\u001b[39;00m \u001b[38;5;28misinstance\u001b[39m(handle, \u001b[38;5;28mstr\u001b[39m):\n\u001b[32m    869\u001b[39m     \u001b[38;5;66;03m# Check whether the filename is to be opened in binary mode.\u001b[39;00m\n\u001b[32m    870\u001b[39m     \u001b[38;5;66;03m# Binary mode does not support 'encoding' and 'newline'.\u001b[39;00m\n\u001b[32m    871\u001b[39m     \u001b[38;5;28;01mif\u001b[39;00m ioargs.encoding \u001b[38;5;129;01mand\u001b[39;00m \u001b[33m\"\u001b[39m\u001b[33mb\u001b[39m\u001b[33m\"\u001b[39m \u001b[38;5;129;01mnot\u001b[39;00m \u001b[38;5;129;01min\u001b[39;00m ioargs.mode:\n\u001b[32m    872\u001b[39m         \u001b[38;5;66;03m# Encoding\u001b[39;00m\n\u001b[32m--> \u001b[39m\u001b[32m873\u001b[39m         handle = \u001b[38;5;28;43mopen\u001b[39;49m\u001b[43m(\u001b[49m\n\u001b[32m    874\u001b[39m \u001b[43m            \u001b[49m\u001b[43mhandle\u001b[49m\u001b[43m,\u001b[49m\n\u001b[32m    875\u001b[39m \u001b[43m            \u001b[49m\u001b[43mioargs\u001b[49m\u001b[43m.\u001b[49m\u001b[43mmode\u001b[49m\u001b[43m,\u001b[49m\n\u001b[32m    876\u001b[39m \u001b[43m            \u001b[49m\u001b[43mencoding\u001b[49m\u001b[43m=\u001b[49m\u001b[43mioargs\u001b[49m\u001b[43m.\u001b[49m\u001b[43mencoding\u001b[49m\u001b[43m,\u001b[49m\n\u001b[32m    877\u001b[39m \u001b[43m            \u001b[49m\u001b[43merrors\u001b[49m\u001b[43m=\u001b[49m\u001b[43merrors\u001b[49m\u001b[43m,\u001b[49m\n\u001b[32m    878\u001b[39m \u001b[43m            \u001b[49m\u001b[43mnewline\u001b[49m\u001b[43m=\u001b[49m\u001b[33;43m\"\u001b[39;49m\u001b[33;43m\"\u001b[39;49m\u001b[43m,\u001b[49m\n\u001b[32m    879\u001b[39m \u001b[43m        \u001b[49m\u001b[43m)\u001b[49m\n\u001b[32m    880\u001b[39m     \u001b[38;5;28;01melse\u001b[39;00m:\n\u001b[32m    881\u001b[39m         \u001b[38;5;66;03m# Binary mode\u001b[39;00m\n\u001b[32m    882\u001b[39m         handle = \u001b[38;5;28mopen\u001b[39m(handle, ioargs.mode)\n",
      "\u001b[31mFileNotFoundError\u001b[39m: [Errno 2] No such file or directory: 'ArchivosDatos/TraficoChileDispositivos.csv'"
     ]
    }
   ],
   "source": [
    "#importamos las librerias para poder analizar\n",
    "import os\n",
    "import pandas as pd\n",
    "import seaborn as sns\n",
    "import matplotlib.pyplot as plt\n",
    "\n",
    "\n",
    "# Leemos el archivo y comprobemos cargue bien\n",
    "df = pd.read_csv(\"ArchivosDatos/TraficoChileDispositivos.csv\")\n",
    "\n",
    "df.head()"
   ]
  },
  {
   "cell_type": "code",
   "execution_count": null,
   "id": "38324863",
   "metadata": {},
   "outputs": [],
   "source": [
    "#Vemos info general del DF\n",
    "\n",
    "df.info()\n"
   ]
  },
  {
   "cell_type": "code",
   "execution_count": null,
   "id": "f2080cbb",
   "metadata": {},
   "outputs": [],
   "source": [
    "# Se observa que no hay ningun dato nulo, sin embargo para que se observe mayor analisis\n",
    "#implementaremos el codigo de todos modos\n",
    "\n",
    "df[df.isnull().any(axis=1)]"
   ]
  },
  {
   "cell_type": "code",
   "execution_count": null,
   "id": "aa39b13d",
   "metadata": {},
   "outputs": [],
   "source": [
    "# De igual forma se puede apreciar que todos los datos a excepción del date, son float y que juntos\n",
    "#  conforman el 100%\n",
    "# Ya que analizaremos comportamiento de los dispositivos a traves de las años, \n",
    "# pasaremos a datetime la columna Date y obtenemos el año\n",
    "\n",
    "df[\"Date\"] = pd.to_datetime(df[\"Date\"])\n",
    "\n",
    "df[\"Year\"] = df[\"Date\"].dt.year"
   ]
  },
  {
   "cell_type": "code",
   "execution_count": null,
   "id": "a45a2f8a",
   "metadata": {},
   "outputs": [],
   "source": [
    "# Visualizamos nuestros datos individualmente y luego juntos en un solo \n",
    "# grafico para posteriormente analizar\n",
    "\n",
    "# Grafico Desktop\n",
    "\n",
    "sns.lineplot(data = df, x= \"Year\", y = \"Desktop\")"
   ]
  },
  {
   "cell_type": "code",
   "execution_count": null,
   "id": "e9125c64",
   "metadata": {},
   "outputs": [],
   "source": [
    "# Grafico Mobile\n",
    "\n",
    "\n",
    "sns.lineplot(data = df, x=\"Year\", y = \"Mobile\")"
   ]
  },
  {
   "cell_type": "code",
   "execution_count": null,
   "id": "f544e62b",
   "metadata": {},
   "outputs": [],
   "source": [
    "# Grafico Tablet\n",
    "\n",
    "\n",
    "sns.lineplot(data = df, x=\"Year\", y = \"Tablet\")"
   ]
  },
  {
   "cell_type": "code",
   "execution_count": null,
   "id": "0850f6b7",
   "metadata": {},
   "outputs": [],
   "source": [
    "# Todos Juntos\n",
    "\n",
    "sns.lineplot(data = df, x=\"Year\", y = \"Desktop\", marker = \"o\")\n",
    "sns.lineplot(data = df, x=\"Year\", y = \"Mobile\", marker = \"o\")\n",
    "sns.lineplot(data = df, x=\"Year\", y = \"Tablet\", marker = \"o\")"
   ]
  },
  {
   "cell_type": "code",
   "execution_count": null,
   "id": "05e3150e",
   "metadata": {},
   "outputs": [],
   "source": [
    "#Del grafico se nota que los dispositivos de oficina fueron muy populares los primeros años, \n",
    "# luego los telefonos los superaron, sin embargo luego hubo un pequeño declive en los telefonos, \n",
    "# analizemmos en que momento ocurrio cuando los telefonos superaron a los dispositivos de \n",
    "#oficina\n",
    "# Las tablets se observan bastante constantes\n",
    "\n",
    "primer_año = df[df[\"Mobile\"] > df[\"Desktop\"]][\"Year\"].iloc[0]\n",
    "print(\"El primer año en que Mobile superó a Desktop fue:\", primer_año)"
   ]
  },
  {
   "cell_type": "code",
   "execution_count": null,
   "id": "9b6565b8",
   "metadata": {},
   "outputs": [],
   "source": [
    "# Otro punto importante es cuando los dispositivos de oficina vuelven a superar a los telefonos\n",
    "\n",
    "\n",
    "# Filtrar después del primer cruce donde Desktop supera a Mobile\n",
    "retroceso = df.loc[primer_año+1:]\n",
    "año_desktop_vuelve = retroceso[retroceso[\"Desktop\"] > retroceso[\"Mobile\"]][\"Year\"].iloc[0]\n",
    "\n",
    "print(\"El año en que Desktop vuelve a superar a Mobile fue:\", año_desktop_vuelve)\n"
   ]
  },
  {
   "cell_type": "code",
   "execution_count": null,
   "id": "2988d40d",
   "metadata": {},
   "outputs": [],
   "source": [
    "# Ahora veremos los minimos y maximos de cada dispositivo de modo de apoyar nuestros graficos \n",
    "# individuales\n",
    "\n",
    "\n",
    "for col in [\"Desktop\",\"Mobile\",\"Tablet\"]:\n",
    "    año_max = df.loc[df[col].idxmax(), \"Year\"]\n",
    "    año_min = df.loc[df[col].idxmin(), \"Year\"]\n",
    "    print(f\"{col}: máximo en {año_max}, mínimo en {año_min}\")"
   ]
  },
  {
   "cell_type": "markdown",
   "id": "08cc30b4",
   "metadata": {},
   "source": [
    "<div style=\"text-align:center;\">\n",
    "  <h2 style=\"\n",
    "      color:#FF69B4; \n",
    "      font-family:'Segoe UI',sans-serif; \n",
    "      font-size:26px; \n",
    "      background-color:#1e1e2f; \n",
    "      padding:10px 20px; \n",
    "      border-radius:12px;\n",
    "      display:inline-block;\n",
    "      margin-bottom:5px;\n",
    "  \">\n",
    "    TraficoGlobalDispositivos.csv\n",
    "  </h2>\n",
    "  <p style=\"\n",
    "      color:#FAA18F; \n",
    "      font-family:'Segoe UI',sans-serif; \n",
    "      font-size:14px; \n",
    "      font-style:italic;\n",
    "      margin-top:0;\n",
    "  \">\n",
    "    Analizado por Alex Nieves\n",
    "  </p>\n",
    "</div>\n"
   ]
  },
  {
   "cell_type": "code",
   "execution_count": 1,
   "id": "b4636000",
   "metadata": {},
   "outputs": [
    {
     "ename": "FileNotFoundError",
     "evalue": "[Errno 2] No such file or directory: 'ArchivosDatos/TraficoGlobalDispositivos.csv'",
     "output_type": "error",
     "traceback": [
      "\u001b[31m---------------------------------------------------------------------------\u001b[39m",
      "\u001b[31mFileNotFoundError\u001b[39m                         Traceback (most recent call last)",
      "\u001b[36mCell\u001b[39m\u001b[36m \u001b[39m\u001b[32mIn[1]\u001b[39m\u001b[32m, line 9\u001b[39m\n\u001b[32m      5\u001b[39m \u001b[38;5;28;01mimport\u001b[39;00m\u001b[38;5;250m \u001b[39m\u001b[34;01mmatplotlib\u001b[39;00m\u001b[34;01m.\u001b[39;00m\u001b[34;01mpyplot\u001b[39;00m\u001b[38;5;250m \u001b[39m\u001b[38;5;28;01mas\u001b[39;00m\u001b[38;5;250m \u001b[39m\u001b[34;01mplt\u001b[39;00m\n\u001b[32m      8\u001b[39m \u001b[38;5;66;03m# Leemos el archivo y compprobemos cargue bien\u001b[39;00m\n\u001b[32m----> \u001b[39m\u001b[32m9\u001b[39m df = \u001b[43mpd\u001b[49m\u001b[43m.\u001b[49m\u001b[43mread_csv\u001b[49m\u001b[43m(\u001b[49m\u001b[33;43m\"\u001b[39;49m\u001b[33;43mArchivosDatos/TraficoGlobalDispositivos.csv\u001b[39;49m\u001b[33;43m\"\u001b[39;49m\u001b[43m)\u001b[49m\n\u001b[32m     11\u001b[39m df.head()\n",
      "\u001b[36mFile \u001b[39m\u001b[32m~\\AppData\\Local\\Programs\\Python\\Python312\\Lib\\site-packages\\pandas\\io\\parsers\\readers.py:1026\u001b[39m, in \u001b[36mread_csv\u001b[39m\u001b[34m(filepath_or_buffer, sep, delimiter, header, names, index_col, usecols, dtype, engine, converters, true_values, false_values, skipinitialspace, skiprows, skipfooter, nrows, na_values, keep_default_na, na_filter, verbose, skip_blank_lines, parse_dates, infer_datetime_format, keep_date_col, date_parser, date_format, dayfirst, cache_dates, iterator, chunksize, compression, thousands, decimal, lineterminator, quotechar, quoting, doublequote, escapechar, comment, encoding, encoding_errors, dialect, on_bad_lines, delim_whitespace, low_memory, memory_map, float_precision, storage_options, dtype_backend)\u001b[39m\n\u001b[32m   1013\u001b[39m kwds_defaults = _refine_defaults_read(\n\u001b[32m   1014\u001b[39m     dialect,\n\u001b[32m   1015\u001b[39m     delimiter,\n\u001b[32m   (...)\u001b[39m\u001b[32m   1022\u001b[39m     dtype_backend=dtype_backend,\n\u001b[32m   1023\u001b[39m )\n\u001b[32m   1024\u001b[39m kwds.update(kwds_defaults)\n\u001b[32m-> \u001b[39m\u001b[32m1026\u001b[39m \u001b[38;5;28;01mreturn\u001b[39;00m \u001b[43m_read\u001b[49m\u001b[43m(\u001b[49m\u001b[43mfilepath_or_buffer\u001b[49m\u001b[43m,\u001b[49m\u001b[43m \u001b[49m\u001b[43mkwds\u001b[49m\u001b[43m)\u001b[49m\n",
      "\u001b[36mFile \u001b[39m\u001b[32m~\\AppData\\Local\\Programs\\Python\\Python312\\Lib\\site-packages\\pandas\\io\\parsers\\readers.py:620\u001b[39m, in \u001b[36m_read\u001b[39m\u001b[34m(filepath_or_buffer, kwds)\u001b[39m\n\u001b[32m    617\u001b[39m _validate_names(kwds.get(\u001b[33m\"\u001b[39m\u001b[33mnames\u001b[39m\u001b[33m\"\u001b[39m, \u001b[38;5;28;01mNone\u001b[39;00m))\n\u001b[32m    619\u001b[39m \u001b[38;5;66;03m# Create the parser.\u001b[39;00m\n\u001b[32m--> \u001b[39m\u001b[32m620\u001b[39m parser = \u001b[43mTextFileReader\u001b[49m\u001b[43m(\u001b[49m\u001b[43mfilepath_or_buffer\u001b[49m\u001b[43m,\u001b[49m\u001b[43m \u001b[49m\u001b[43m*\u001b[49m\u001b[43m*\u001b[49m\u001b[43mkwds\u001b[49m\u001b[43m)\u001b[49m\n\u001b[32m    622\u001b[39m \u001b[38;5;28;01mif\u001b[39;00m chunksize \u001b[38;5;129;01mor\u001b[39;00m iterator:\n\u001b[32m    623\u001b[39m     \u001b[38;5;28;01mreturn\u001b[39;00m parser\n",
      "\u001b[36mFile \u001b[39m\u001b[32m~\\AppData\\Local\\Programs\\Python\\Python312\\Lib\\site-packages\\pandas\\io\\parsers\\readers.py:1620\u001b[39m, in \u001b[36mTextFileReader.__init__\u001b[39m\u001b[34m(self, f, engine, **kwds)\u001b[39m\n\u001b[32m   1617\u001b[39m     \u001b[38;5;28mself\u001b[39m.options[\u001b[33m\"\u001b[39m\u001b[33mhas_index_names\u001b[39m\u001b[33m\"\u001b[39m] = kwds[\u001b[33m\"\u001b[39m\u001b[33mhas_index_names\u001b[39m\u001b[33m\"\u001b[39m]\n\u001b[32m   1619\u001b[39m \u001b[38;5;28mself\u001b[39m.handles: IOHandles | \u001b[38;5;28;01mNone\u001b[39;00m = \u001b[38;5;28;01mNone\u001b[39;00m\n\u001b[32m-> \u001b[39m\u001b[32m1620\u001b[39m \u001b[38;5;28mself\u001b[39m._engine = \u001b[38;5;28;43mself\u001b[39;49m\u001b[43m.\u001b[49m\u001b[43m_make_engine\u001b[49m\u001b[43m(\u001b[49m\u001b[43mf\u001b[49m\u001b[43m,\u001b[49m\u001b[43m \u001b[49m\u001b[38;5;28;43mself\u001b[39;49m\u001b[43m.\u001b[49m\u001b[43mengine\u001b[49m\u001b[43m)\u001b[49m\n",
      "\u001b[36mFile \u001b[39m\u001b[32m~\\AppData\\Local\\Programs\\Python\\Python312\\Lib\\site-packages\\pandas\\io\\parsers\\readers.py:1880\u001b[39m, in \u001b[36mTextFileReader._make_engine\u001b[39m\u001b[34m(self, f, engine)\u001b[39m\n\u001b[32m   1878\u001b[39m     \u001b[38;5;28;01mif\u001b[39;00m \u001b[33m\"\u001b[39m\u001b[33mb\u001b[39m\u001b[33m\"\u001b[39m \u001b[38;5;129;01mnot\u001b[39;00m \u001b[38;5;129;01min\u001b[39;00m mode:\n\u001b[32m   1879\u001b[39m         mode += \u001b[33m\"\u001b[39m\u001b[33mb\u001b[39m\u001b[33m\"\u001b[39m\n\u001b[32m-> \u001b[39m\u001b[32m1880\u001b[39m \u001b[38;5;28mself\u001b[39m.handles = \u001b[43mget_handle\u001b[49m\u001b[43m(\u001b[49m\n\u001b[32m   1881\u001b[39m \u001b[43m    \u001b[49m\u001b[43mf\u001b[49m\u001b[43m,\u001b[49m\n\u001b[32m   1882\u001b[39m \u001b[43m    \u001b[49m\u001b[43mmode\u001b[49m\u001b[43m,\u001b[49m\n\u001b[32m   1883\u001b[39m \u001b[43m    \u001b[49m\u001b[43mencoding\u001b[49m\u001b[43m=\u001b[49m\u001b[38;5;28;43mself\u001b[39;49m\u001b[43m.\u001b[49m\u001b[43moptions\u001b[49m\u001b[43m.\u001b[49m\u001b[43mget\u001b[49m\u001b[43m(\u001b[49m\u001b[33;43m\"\u001b[39;49m\u001b[33;43mencoding\u001b[39;49m\u001b[33;43m\"\u001b[39;49m\u001b[43m,\u001b[49m\u001b[43m \u001b[49m\u001b[38;5;28;43;01mNone\u001b[39;49;00m\u001b[43m)\u001b[49m\u001b[43m,\u001b[49m\n\u001b[32m   1884\u001b[39m \u001b[43m    \u001b[49m\u001b[43mcompression\u001b[49m\u001b[43m=\u001b[49m\u001b[38;5;28;43mself\u001b[39;49m\u001b[43m.\u001b[49m\u001b[43moptions\u001b[49m\u001b[43m.\u001b[49m\u001b[43mget\u001b[49m\u001b[43m(\u001b[49m\u001b[33;43m\"\u001b[39;49m\u001b[33;43mcompression\u001b[39;49m\u001b[33;43m\"\u001b[39;49m\u001b[43m,\u001b[49m\u001b[43m \u001b[49m\u001b[38;5;28;43;01mNone\u001b[39;49;00m\u001b[43m)\u001b[49m\u001b[43m,\u001b[49m\n\u001b[32m   1885\u001b[39m \u001b[43m    \u001b[49m\u001b[43mmemory_map\u001b[49m\u001b[43m=\u001b[49m\u001b[38;5;28;43mself\u001b[39;49m\u001b[43m.\u001b[49m\u001b[43moptions\u001b[49m\u001b[43m.\u001b[49m\u001b[43mget\u001b[49m\u001b[43m(\u001b[49m\u001b[33;43m\"\u001b[39;49m\u001b[33;43mmemory_map\u001b[39;49m\u001b[33;43m\"\u001b[39;49m\u001b[43m,\u001b[49m\u001b[43m \u001b[49m\u001b[38;5;28;43;01mFalse\u001b[39;49;00m\u001b[43m)\u001b[49m\u001b[43m,\u001b[49m\n\u001b[32m   1886\u001b[39m \u001b[43m    \u001b[49m\u001b[43mis_text\u001b[49m\u001b[43m=\u001b[49m\u001b[43mis_text\u001b[49m\u001b[43m,\u001b[49m\n\u001b[32m   1887\u001b[39m \u001b[43m    \u001b[49m\u001b[43merrors\u001b[49m\u001b[43m=\u001b[49m\u001b[38;5;28;43mself\u001b[39;49m\u001b[43m.\u001b[49m\u001b[43moptions\u001b[49m\u001b[43m.\u001b[49m\u001b[43mget\u001b[49m\u001b[43m(\u001b[49m\u001b[33;43m\"\u001b[39;49m\u001b[33;43mencoding_errors\u001b[39;49m\u001b[33;43m\"\u001b[39;49m\u001b[43m,\u001b[49m\u001b[43m \u001b[49m\u001b[33;43m\"\u001b[39;49m\u001b[33;43mstrict\u001b[39;49m\u001b[33;43m\"\u001b[39;49m\u001b[43m)\u001b[49m\u001b[43m,\u001b[49m\n\u001b[32m   1888\u001b[39m \u001b[43m    \u001b[49m\u001b[43mstorage_options\u001b[49m\u001b[43m=\u001b[49m\u001b[38;5;28;43mself\u001b[39;49m\u001b[43m.\u001b[49m\u001b[43moptions\u001b[49m\u001b[43m.\u001b[49m\u001b[43mget\u001b[49m\u001b[43m(\u001b[49m\u001b[33;43m\"\u001b[39;49m\u001b[33;43mstorage_options\u001b[39;49m\u001b[33;43m\"\u001b[39;49m\u001b[43m,\u001b[49m\u001b[43m \u001b[49m\u001b[38;5;28;43;01mNone\u001b[39;49;00m\u001b[43m)\u001b[49m\u001b[43m,\u001b[49m\n\u001b[32m   1889\u001b[39m \u001b[43m\u001b[49m\u001b[43m)\u001b[49m\n\u001b[32m   1890\u001b[39m \u001b[38;5;28;01massert\u001b[39;00m \u001b[38;5;28mself\u001b[39m.handles \u001b[38;5;129;01mis\u001b[39;00m \u001b[38;5;129;01mnot\u001b[39;00m \u001b[38;5;28;01mNone\u001b[39;00m\n\u001b[32m   1891\u001b[39m f = \u001b[38;5;28mself\u001b[39m.handles.handle\n",
      "\u001b[36mFile \u001b[39m\u001b[32m~\\AppData\\Local\\Programs\\Python\\Python312\\Lib\\site-packages\\pandas\\io\\common.py:873\u001b[39m, in \u001b[36mget_handle\u001b[39m\u001b[34m(path_or_buf, mode, encoding, compression, memory_map, is_text, errors, storage_options)\u001b[39m\n\u001b[32m    868\u001b[39m \u001b[38;5;28;01melif\u001b[39;00m \u001b[38;5;28misinstance\u001b[39m(handle, \u001b[38;5;28mstr\u001b[39m):\n\u001b[32m    869\u001b[39m     \u001b[38;5;66;03m# Check whether the filename is to be opened in binary mode.\u001b[39;00m\n\u001b[32m    870\u001b[39m     \u001b[38;5;66;03m# Binary mode does not support 'encoding' and 'newline'.\u001b[39;00m\n\u001b[32m    871\u001b[39m     \u001b[38;5;28;01mif\u001b[39;00m ioargs.encoding \u001b[38;5;129;01mand\u001b[39;00m \u001b[33m\"\u001b[39m\u001b[33mb\u001b[39m\u001b[33m\"\u001b[39m \u001b[38;5;129;01mnot\u001b[39;00m \u001b[38;5;129;01min\u001b[39;00m ioargs.mode:\n\u001b[32m    872\u001b[39m         \u001b[38;5;66;03m# Encoding\u001b[39;00m\n\u001b[32m--> \u001b[39m\u001b[32m873\u001b[39m         handle = \u001b[38;5;28;43mopen\u001b[39;49m\u001b[43m(\u001b[49m\n\u001b[32m    874\u001b[39m \u001b[43m            \u001b[49m\u001b[43mhandle\u001b[49m\u001b[43m,\u001b[49m\n\u001b[32m    875\u001b[39m \u001b[43m            \u001b[49m\u001b[43mioargs\u001b[49m\u001b[43m.\u001b[49m\u001b[43mmode\u001b[49m\u001b[43m,\u001b[49m\n\u001b[32m    876\u001b[39m \u001b[43m            \u001b[49m\u001b[43mencoding\u001b[49m\u001b[43m=\u001b[49m\u001b[43mioargs\u001b[49m\u001b[43m.\u001b[49m\u001b[43mencoding\u001b[49m\u001b[43m,\u001b[49m\n\u001b[32m    877\u001b[39m \u001b[43m            \u001b[49m\u001b[43merrors\u001b[49m\u001b[43m=\u001b[49m\u001b[43merrors\u001b[49m\u001b[43m,\u001b[49m\n\u001b[32m    878\u001b[39m \u001b[43m            \u001b[49m\u001b[43mnewline\u001b[49m\u001b[43m=\u001b[49m\u001b[33;43m\"\u001b[39;49m\u001b[33;43m\"\u001b[39;49m\u001b[43m,\u001b[49m\n\u001b[32m    879\u001b[39m \u001b[43m        \u001b[49m\u001b[43m)\u001b[49m\n\u001b[32m    880\u001b[39m     \u001b[38;5;28;01melse\u001b[39;00m:\n\u001b[32m    881\u001b[39m         \u001b[38;5;66;03m# Binary mode\u001b[39;00m\n\u001b[32m    882\u001b[39m         handle = \u001b[38;5;28mopen\u001b[39m(handle, ioargs.mode)\n",
      "\u001b[31mFileNotFoundError\u001b[39m: [Errno 2] No such file or directory: 'ArchivosDatos/TraficoGlobalDispositivos.csv'"
     ]
    }
   ],
   "source": [
    "#importamos las librerias para poder analizar\n",
    "\n",
    "import pandas as pd\n",
    "import seaborn as sns\n",
    "import matplotlib.pyplot as plt\n",
    "\n",
    "\n",
    "# Leemos el archivo y compprobemos cargue bien\n",
    "df = pd.read_csv(\"ArchivosDatos/TraficoGlobalDispositivos.csv\")\n",
    "\n",
    "df.head()"
   ]
  },
  {
   "cell_type": "code",
   "execution_count": null,
   "id": "2dc640da",
   "metadata": {},
   "outputs": [],
   "source": [
    "#Vemos info general del DF\n",
    "\n",
    "df.info()\n",
    "\n",
    "# Se observa que no hay ningun nulo"
   ]
  },
  {
   "cell_type": "code",
   "execution_count": null,
   "id": "615c214c",
   "metadata": {},
   "outputs": [],
   "source": [
    "# Dispositivo que domina cada año\n",
    "\n",
    "df[\"Dominante\"] = df[[\"Desktop\",\"Mobile\",\"Tablet\"]].idxmax(axis=1)\n",
    "plt.figure(figsize=(10,6))\n",
    "sns.lineplot(x=df[\"Year\"], y=df[\"Desktop\"], marker=\"o\", label=\"Desktop\", linewidth=2)\n",
    "sns.lineplot(x=df[\"Year\"], y=df[\"Mobile\"], marker=\"o\", label=\"Mobile\", linewidth=2)\n",
    "sns.lineplot(x=df[\"Year\"], y=df[\"Tablet\"], marker=\"o\", label=\"Tablet\", linewidth=2)\n",
    "\n",
    "plt.title(\"Dispositivo dominante cada año\", fontsize=16)\n",
    "plt.xlabel(\"Año\", fontsize=12)\n",
    "plt.ylabel(\"Porcentaje de uso\", fontsize=12)\n",
    "plt.legend()\n",
    "plt.show()"
   ]
  },
  {
   "cell_type": "code",
   "execution_count": null,
   "id": "983c345e",
   "metadata": {},
   "outputs": [],
   "source": [
    "# Vemos los ratios entre los dispositivos\n",
    "\n",
    "df[\"Mobile_vs_Desktop\"] = df[\"Mobile\"] / df[\"Desktop\"]\n",
    "df[\"Tablet_vs_Mobile\"] = df[\"Tablet\"] / df[\"Mobile\"]\n",
    "\n",
    "\n",
    "plt.figure(figsize=(10,5))\n",
    "sns.lineplot(x=df[\"Year\"], y=df[\"Mobile_vs_Desktop\"], marker=\"o\", label=\"Mobile/Desktop\", linewidth=2)\n",
    "sns.lineplot(x=df[\"Year\"], y=df[\"Tablet_vs_Mobile\"], marker=\"o\", label=\"Tablet/Mobile\", linewidth=2)\n",
    "plt.title(\"Ratios entre dispositivos\", fontsize=16)\n",
    "plt.xlabel(\"Año\", fontsize=12)\n",
    "plt.ylabel(\"Ratio\", fontsize=12)\n",
    "plt.legend()\n",
    "plt.show()"
   ]
  },
  {
   "cell_type": "code",
   "execution_count": null,
   "id": "6e0ef8fa",
   "metadata": {},
   "outputs": [],
   "source": [
    "#Para darle otro enfoque y al mismo tiempo apoyar lo anterior \n",
    "\n",
    "sns.heatmap(df[[\"Desktop\",\"Mobile\",\"Tablet\"]].corr(), annot=True, cmap=\"coolwarm\", fmt=\".2f\", linewidths=0.5)\n",
    "plt.title(\"Correlación global entre dispositivos\", fontsize=14)\n",
    "plt.show()"
   ]
  },
  {
   "cell_type": "markdown",
   "id": "ca59d219",
   "metadata": {},
   "source": [
    "<div style=\"text-align:center;\">\n",
    "  <h2 style=\"\n",
    "      color:#FF69B4; \n",
    "      font-family:'Segoe UI',sans-serif; \n",
    "      font-size:26px; \n",
    "      background-color:#1e1e2f; \n",
    "      padding:10px 20px; \n",
    "      border-radius:12px;\n",
    "      display:inline-block;\n",
    "      margin-bottom:5px;\n",
    "  \">\n",
    "    ExportacionComputadoresCelularesChile.xlsx\n",
    "  </h2>\n",
    "  <p style=\"\n",
    "      color:#FAA18F; \n",
    "      font-family:'Segoe UI',sans-serif; \n",
    "      font-size:14px; \n",
    "      font-style:italic;\n",
    "      margin-top:0;\n",
    "  \">\n",
    "    Analizado por Felipe Alcaman\n",
    "  </p>\n",
    "</div>\n"
   ]
  },
  {
   "cell_type": "markdown",
   "id": "ec7c8bfe",
   "metadata": {},
   "source": [
    "Vamos a cargar las librerias esenciales y respecto a los archivos es necesario que este notebook sea ejecutado en la ruta donde viene"
   ]
  },
  {
   "cell_type": "code",
   "execution_count": null,
   "id": "b0d7247b",
   "metadata": {},
   "outputs": [],
   "source": [
    "import pandas as pd\n",
    "import seaborn as sns\n",
    "import matplotlib.pyplot as plt\n",
    "from datetime import date"
   ]
  },
  {
   "cell_type": "markdown",
   "id": "ef489da0",
   "metadata": {},
   "source": [
    "Primero vamos a hacer los respectivos análisis a el archivo de las exportaciones de celulares y computadores.\n",
    "Ya que al momento de cargar el archivo, este esta desordenado vamos a hacer una limpieza para poder tenerlo en un formato más comprensible."
   ]
  },
  {
   "cell_type": "code",
   "execution_count": 4,
   "id": "9fea39fb",
   "metadata": {},
   "outputs": [
    {
     "ename": "FileNotFoundError",
     "evalue": "[Errno 2] No such file or directory: 'ArchivosDatos/ExportacionComputadoresCelularesChile.xlsx'",
     "output_type": "error",
     "traceback": [
      "\u001b[31m---------------------------------------------------------------------------\u001b[39m",
      "\u001b[31mFileNotFoundError\u001b[39m                         Traceback (most recent call last)",
      "\u001b[36mCell\u001b[39m\u001b[36m \u001b[39m\u001b[32mIn[4]\u001b[39m\u001b[32m, line 1\u001b[39m\n\u001b[32m----> \u001b[39m\u001b[32m1\u001b[39m df_exportaciones = \u001b[43mpd\u001b[49m\u001b[43m.\u001b[49m\u001b[43mread_excel\u001b[49m\u001b[43m(\u001b[49m\u001b[33;43m'\u001b[39;49m\u001b[33;43mArchivosDatos/ExportacionComputadoresCelularesChile.xlsx\u001b[39;49m\u001b[33;43m'\u001b[39;49m\u001b[43m)\u001b[49m\n\u001b[32m      2\u001b[39m \u001b[38;5;66;03m# Posee demasiadas columnas por lo que vamos a tomar solo las primeras 3 que son las que nos interesan y vamos a usar una de las \u001b[39;00m\n\u001b[32m      3\u001b[39m \u001b[38;5;66;03m# filas para renombrar las columnas\u001b[39;00m\n\u001b[32m      4\u001b[39m df_exportaciones = df_exportaciones[[\u001b[33m'\u001b[39m\u001b[33mUnnamed: 0\u001b[39m\u001b[33m'\u001b[39m, \u001b[33m'\u001b[39m\u001b[33mUnnamed: 1\u001b[39m\u001b[33m'\u001b[39m, \u001b[33m'\u001b[39m\u001b[33mUnnamed: 2\u001b[39m\u001b[33m'\u001b[39m]]\n",
      "\u001b[36mFile \u001b[39m\u001b[32mc:\\Users\\alexn\\AppData\\Local\\Programs\\Python\\Python312\\Lib\\site-packages\\pandas\\io\\excel\\_base.py:495\u001b[39m, in \u001b[36mread_excel\u001b[39m\u001b[34m(io, sheet_name, header, names, index_col, usecols, dtype, engine, converters, true_values, false_values, skiprows, nrows, na_values, keep_default_na, na_filter, verbose, parse_dates, date_parser, date_format, thousands, decimal, comment, skipfooter, storage_options, dtype_backend, engine_kwargs)\u001b[39m\n\u001b[32m    493\u001b[39m \u001b[38;5;28;01mif\u001b[39;00m \u001b[38;5;129;01mnot\u001b[39;00m \u001b[38;5;28misinstance\u001b[39m(io, ExcelFile):\n\u001b[32m    494\u001b[39m     should_close = \u001b[38;5;28;01mTrue\u001b[39;00m\n\u001b[32m--> \u001b[39m\u001b[32m495\u001b[39m     io = \u001b[43mExcelFile\u001b[49m\u001b[43m(\u001b[49m\n\u001b[32m    496\u001b[39m \u001b[43m        \u001b[49m\u001b[43mio\u001b[49m\u001b[43m,\u001b[49m\n\u001b[32m    497\u001b[39m \u001b[43m        \u001b[49m\u001b[43mstorage_options\u001b[49m\u001b[43m=\u001b[49m\u001b[43mstorage_options\u001b[49m\u001b[43m,\u001b[49m\n\u001b[32m    498\u001b[39m \u001b[43m        \u001b[49m\u001b[43mengine\u001b[49m\u001b[43m=\u001b[49m\u001b[43mengine\u001b[49m\u001b[43m,\u001b[49m\n\u001b[32m    499\u001b[39m \u001b[43m        \u001b[49m\u001b[43mengine_kwargs\u001b[49m\u001b[43m=\u001b[49m\u001b[43mengine_kwargs\u001b[49m\u001b[43m,\u001b[49m\n\u001b[32m    500\u001b[39m \u001b[43m    \u001b[49m\u001b[43m)\u001b[49m\n\u001b[32m    501\u001b[39m \u001b[38;5;28;01melif\u001b[39;00m engine \u001b[38;5;129;01mand\u001b[39;00m engine != io.engine:\n\u001b[32m    502\u001b[39m     \u001b[38;5;28;01mraise\u001b[39;00m \u001b[38;5;167;01mValueError\u001b[39;00m(\n\u001b[32m    503\u001b[39m         \u001b[33m\"\u001b[39m\u001b[33mEngine should not be specified when passing \u001b[39m\u001b[33m\"\u001b[39m\n\u001b[32m    504\u001b[39m         \u001b[33m\"\u001b[39m\u001b[33man ExcelFile - ExcelFile already has the engine set\u001b[39m\u001b[33m\"\u001b[39m\n\u001b[32m    505\u001b[39m     )\n",
      "\u001b[36mFile \u001b[39m\u001b[32mc:\\Users\\alexn\\AppData\\Local\\Programs\\Python\\Python312\\Lib\\site-packages\\pandas\\io\\excel\\_base.py:1550\u001b[39m, in \u001b[36mExcelFile.__init__\u001b[39m\u001b[34m(self, path_or_buffer, engine, storage_options, engine_kwargs)\u001b[39m\n\u001b[32m   1548\u001b[39m     ext = \u001b[33m\"\u001b[39m\u001b[33mxls\u001b[39m\u001b[33m\"\u001b[39m\n\u001b[32m   1549\u001b[39m \u001b[38;5;28;01melse\u001b[39;00m:\n\u001b[32m-> \u001b[39m\u001b[32m1550\u001b[39m     ext = \u001b[43minspect_excel_format\u001b[49m\u001b[43m(\u001b[49m\n\u001b[32m   1551\u001b[39m \u001b[43m        \u001b[49m\u001b[43mcontent_or_path\u001b[49m\u001b[43m=\u001b[49m\u001b[43mpath_or_buffer\u001b[49m\u001b[43m,\u001b[49m\u001b[43m \u001b[49m\u001b[43mstorage_options\u001b[49m\u001b[43m=\u001b[49m\u001b[43mstorage_options\u001b[49m\n\u001b[32m   1552\u001b[39m \u001b[43m    \u001b[49m\u001b[43m)\u001b[49m\n\u001b[32m   1553\u001b[39m     \u001b[38;5;28;01mif\u001b[39;00m ext \u001b[38;5;129;01mis\u001b[39;00m \u001b[38;5;28;01mNone\u001b[39;00m:\n\u001b[32m   1554\u001b[39m         \u001b[38;5;28;01mraise\u001b[39;00m \u001b[38;5;167;01mValueError\u001b[39;00m(\n\u001b[32m   1555\u001b[39m             \u001b[33m\"\u001b[39m\u001b[33mExcel file format cannot be determined, you must specify \u001b[39m\u001b[33m\"\u001b[39m\n\u001b[32m   1556\u001b[39m             \u001b[33m\"\u001b[39m\u001b[33man engine manually.\u001b[39m\u001b[33m\"\u001b[39m\n\u001b[32m   1557\u001b[39m         )\n",
      "\u001b[36mFile \u001b[39m\u001b[32mc:\\Users\\alexn\\AppData\\Local\\Programs\\Python\\Python312\\Lib\\site-packages\\pandas\\io\\excel\\_base.py:1402\u001b[39m, in \u001b[36minspect_excel_format\u001b[39m\u001b[34m(content_or_path, storage_options)\u001b[39m\n\u001b[32m   1399\u001b[39m \u001b[38;5;28;01mif\u001b[39;00m \u001b[38;5;28misinstance\u001b[39m(content_or_path, \u001b[38;5;28mbytes\u001b[39m):\n\u001b[32m   1400\u001b[39m     content_or_path = BytesIO(content_or_path)\n\u001b[32m-> \u001b[39m\u001b[32m1402\u001b[39m \u001b[38;5;28;01mwith\u001b[39;00m \u001b[43mget_handle\u001b[49m\u001b[43m(\u001b[49m\n\u001b[32m   1403\u001b[39m \u001b[43m    \u001b[49m\u001b[43mcontent_or_path\u001b[49m\u001b[43m,\u001b[49m\u001b[43m \u001b[49m\u001b[33;43m\"\u001b[39;49m\u001b[33;43mrb\u001b[39;49m\u001b[33;43m\"\u001b[39;49m\u001b[43m,\u001b[49m\u001b[43m \u001b[49m\u001b[43mstorage_options\u001b[49m\u001b[43m=\u001b[49m\u001b[43mstorage_options\u001b[49m\u001b[43m,\u001b[49m\u001b[43m \u001b[49m\u001b[43mis_text\u001b[49m\u001b[43m=\u001b[49m\u001b[38;5;28;43;01mFalse\u001b[39;49;00m\n\u001b[32m   1404\u001b[39m \u001b[43m\u001b[49m\u001b[43m)\u001b[49m \u001b[38;5;28;01mas\u001b[39;00m handle:\n\u001b[32m   1405\u001b[39m     stream = handle.handle\n\u001b[32m   1406\u001b[39m     stream.seek(\u001b[32m0\u001b[39m)\n",
      "\u001b[36mFile \u001b[39m\u001b[32mc:\\Users\\alexn\\AppData\\Local\\Programs\\Python\\Python312\\Lib\\site-packages\\pandas\\io\\common.py:882\u001b[39m, in \u001b[36mget_handle\u001b[39m\u001b[34m(path_or_buf, mode, encoding, compression, memory_map, is_text, errors, storage_options)\u001b[39m\n\u001b[32m    873\u001b[39m         handle = \u001b[38;5;28mopen\u001b[39m(\n\u001b[32m    874\u001b[39m             handle,\n\u001b[32m    875\u001b[39m             ioargs.mode,\n\u001b[32m   (...)\u001b[39m\u001b[32m    878\u001b[39m             newline=\u001b[33m\"\u001b[39m\u001b[33m\"\u001b[39m,\n\u001b[32m    879\u001b[39m         )\n\u001b[32m    880\u001b[39m     \u001b[38;5;28;01melse\u001b[39;00m:\n\u001b[32m    881\u001b[39m         \u001b[38;5;66;03m# Binary mode\u001b[39;00m\n\u001b[32m--> \u001b[39m\u001b[32m882\u001b[39m         handle = \u001b[38;5;28;43mopen\u001b[39;49m\u001b[43m(\u001b[49m\u001b[43mhandle\u001b[49m\u001b[43m,\u001b[49m\u001b[43m \u001b[49m\u001b[43mioargs\u001b[49m\u001b[43m.\u001b[49m\u001b[43mmode\u001b[49m\u001b[43m)\u001b[49m\n\u001b[32m    883\u001b[39m     handles.append(handle)\n\u001b[32m    885\u001b[39m \u001b[38;5;66;03m# Convert BytesIO or file objects passed with an encoding\u001b[39;00m\n",
      "\u001b[31mFileNotFoundError\u001b[39m: [Errno 2] No such file or directory: 'ArchivosDatos/ExportacionComputadoresCelularesChile.xlsx'"
     ]
    }
   ],
   "source": [
    "df_exportaciones = pd.read_excel('ArchivosDatos/ExportacionComputadoresCelularesChile.xlsx')\n",
    "# Posee demasiadas columnas por lo que vamos a tomar solo las primeras 3 que son las que nos interesan y vamos a usar una de las \n",
    "# filas para renombrar las columnas\n",
    "df_exportaciones = df_exportaciones[['Unnamed: 0', 'Unnamed: 1', 'Unnamed: 2']]\n",
    "df_exportaciones.drop(axis=0, index=[0, 1, 3], inplace=True)\n",
    "df_exportaciones.reset_index(drop=True, inplace=True)\n",
    "df_exportaciones.columns = df_exportaciones.iloc[0]\n",
    "df_exportaciones.drop(axis=0, index=0, inplace=True)\n",
    "df_exportaciones.reset_index(drop=True, inplace=True)\n",
    "df_exportaciones.head(5)"
   ]
  },
  {
   "cell_type": "markdown",
   "id": "9093555d",
   "metadata": {},
   "source": [
    "Una vez que ya ordenamos nuestro dataframe, ahora vamos a renombrar las columnas para hacer más breves los nombres y convertir nuestros tipos de datos, ya que tenemos tipos de dato object, los cuales pueden ser convertidos en float y objetos tipo datetime."
   ]
  },
  {
   "cell_type": "code",
   "execution_count": null,
   "id": "94e5b82f",
   "metadata": {},
   "outputs": [],
   "source": [
    "df_exportaciones.info()"
   ]
  },
  {
   "cell_type": "code",
   "execution_count": null,
   "id": "e088a9b0",
   "metadata": {},
   "outputs": [],
   "source": [
    "df_exportaciones.rename(columns={'Balanza de pagos, importaciones, bienes de consumo durables, Computadores, CIF, flujo semanal': \n",
    "'Exportaciones computadores en Millones de dolares', 'Balanza de pagos, importaciones, bienes de consumo durables, Celulares, CIF, flujo semanal,':\n",
    "'Exportaciones celulares en Millones de dolares'}, inplace=True)\n",
    "df_exportaciones.head()"
   ]
  },
  {
   "cell_type": "code",
   "execution_count": null,
   "id": "822c4dbe",
   "metadata": {},
   "outputs": [],
   "source": [
    "df_exportaciones['Exportaciones computadores en Millones de dolares'] = df_exportaciones['Exportaciones computadores en Millones de dolares'].astype(float)\n",
    "df_exportaciones['Exportaciones computadores en Millones de dolares'] = df_exportaciones['Exportaciones computadores en Millones de dolares'].round(2)\n",
    "df_exportaciones['Exportaciones celulares en Millones de dolares'] = df_exportaciones['Exportaciones celulares en Millones de dolares'].astype(float)\n",
    "df_exportaciones['Exportaciones celulares en Millones de dolares'] = df_exportaciones['Exportaciones celulares en Millones de dolares'].round(2)\n",
    "fechas = df_exportaciones['FECHA'].astype(str)\n",
    "fechas = fechas.str.split()\n",
    "fechas = fechas.apply(lambda x: x[0])\n",
    "df_exportaciones['FECHA'] = pd.to_datetime(fechas)\n",
    "df_exportaciones.info()"
   ]
  },
  {
   "cell_type": "markdown",
   "id": "e22603a6",
   "metadata": {},
   "source": [
    "Teniendo nuestro dataframe limpiado y ordenado, primero podemos hacer un vistazo rapido de metricas que tenemos en nuestro datos:"
   ]
  },
  {
   "cell_type": "code",
   "execution_count": null,
   "id": "81b16acb",
   "metadata": {},
   "outputs": [],
   "source": [
    "df_exportaciones.describe()"
   ]
  },
  {
   "cell_type": "markdown",
   "id": "d90874c4",
   "metadata": {},
   "source": [
    "Vamos a hacer una grafica para poder ver los datos, podemos reformular la pregunta a: Como ha sido la existencia o exportacion de aparatos electronicos a lo largo del tiempo? Grafico de correlacion, talvez calcular diferencia entre cada uno durante el tiempo, y cuanto aumento las ventas en 2025 comparado a 2003"
   ]
  },
  {
   "cell_type": "code",
   "execution_count": null,
   "id": "2eb2071b",
   "metadata": {},
   "outputs": [],
   "source": [
    "plt.figure(figsize=(12, 5))\n",
    "plt.plot(df_exportaciones['FECHA'], df_exportaciones['Exportaciones computadores en Millones de dolares'], label='Computador')\n",
    "plt.plot(df_exportaciones['FECHA'], df_exportaciones['Exportaciones celulares en Millones de dolares'], label='Celular')\n",
    "plt.title('Gastos de exportacion en Millones de dolares de Dispositivos Electronicos 2003-2025')\n",
    "plt.xlabel('Fechas')\n",
    "plt.ylabel('Millones de dolares')\n",
    "plt.legend(title='Dispositivos')\n",
    "plt.show()"
   ]
  },
  {
   "cell_type": "markdown",
   "id": "bc18dcae",
   "metadata": {},
   "source": [
    "## Análisis Datos Impacto IA en Universidades de Bangladesh"
   ]
  },
  {
   "cell_type": "markdown",
   "id": "55951859",
   "metadata": {},
   "source": [
    "Finalmente, con la gráfica podemos establecer a simple vista que el mercado de los dispositivos electronicos a ido lentamente en aumento, con los celulares teniendo una gran mayoria a comparación de los computadores."
   ]
  },
  {
   "cell_type": "markdown",
   "id": "4372137d",
   "metadata": {},
   "source": [
    "Ahora vamos a realizar el análisis de el impacto de la IA en estudiantes de varias universidades de Bangladesh"
   ]
  },
  {
   "cell_type": "code",
   "execution_count": null,
   "id": "67e17812",
   "metadata": {},
   "outputs": [],
   "source": [
    "df_bangladesh = pd.read_csv('ArchivosDatos/ImpactoIABangladesh.csv')\n",
    "df_bangladesh.head(5)"
   ]
  },
  {
   "cell_type": "markdown",
   "id": "e3989aa4",
   "metadata": {},
   "source": [
    "Podemos ver que en este caso, tenemos variables en base a una encuesta o preguntas, para lo cual tendrias datos categoricos, por lo que podemos hacer varios análisis mediante estos datos."
   ]
  },
  {
   "cell_type": "code",
   "execution_count": null,
   "id": "3fefa8d5",
   "metadata": {},
   "outputs": [],
   "source": [
    "# Cambiamos los nombres para hacerlos más breves y simples\n",
    "df_bangladesh = df_bangladesh.rename(columns={'What is your university name ?': 'University',\n",
    "                              'What is your current level of education?': 'Education Level',\n",
    "                              'How often do you use AI tools like ChatGPT  for academic purposes?': 'IA Use Frequency',\n",
    "                              'How do you think ChatGPT has influenced teaching methods in your courses?': 'Influency in Teaching methods by IA',\n",
    "                              'Has ChatGPT influenced your approach to solving complex academic problems or  assignments  ? ': 'IA influency on academics problems',\n",
    "                              'Do you use ChatGPT for group study or collaborative learning ?': 'Use of IA for groups',\n",
    "                              'Do you feel that AI assists you in self-paced learning ?': 'IA assist in learning',\n",
    "                              ' Does ChatGPT help improve critical thinking and problem-solving?': 'IA help improving critical thinking and problem solving',\n",
    "                              'Has ChatGPT provided useful guidance on your career path or educational choices ?': 'IA guidance on career choices',\n",
    "                              'How worried are you about the privacy and safety of your personal data when using AI tools like ChatGPT for academic tasks?': 'Worries in Privacy and Data',\n",
    "                              'Do you think relying too much on AI tools like ChatGPT could harm students creativity and critical thinking skills?': 'Harm of students thinking by using AI',\n",
    "                              'Do you believe using AI tools like ChatGPT reduces your creativity and critical thinking?': 'Creativity reduction by using AI of myself',\n",
    "                              'Do you believe AI tools (like ChatGPT) improve your learning experience?': 'AI improves learning experience'})\n"
   ]
  },
  {
   "cell_type": "code",
   "execution_count": null,
   "id": "95a27814",
   "metadata": {},
   "outputs": [],
   "source": [
    "# Limpiamos caracteres para no obtener resultados duplicados\n",
    "df_bangladesh.iloc[:, 0] = df_bangladesh.iloc[:, 0].str.title().str.strip(',').str.strip()\n",
    "df_bangladesh.iloc[:, 0] = df_bangladesh.iloc[:, 0].str.replace('  ', ' ').str.replace(',', '')\n",
    "df_bangladesh.iloc[:, 0].nunique()"
   ]
  },
  {
   "cell_type": "markdown",
   "id": "3c5514ed",
   "metadata": {},
   "source": [
    "Tenemos aproximadamente un total de 116 instituciones de donde provienen los estudiantes y tambien podemos ver que tenemos 3511 estudiantes entrevistados."
   ]
  },
  {
   "cell_type": "markdown",
   "id": "c9435059",
   "metadata": {},
   "source": [
    "Ahora sabiendo que datos tenemos, queremos responder como ha aumentado el uso de IA en los ultimos años. Si bien el caso de estos datos sabemos que son desde junio de 2024 a enero de 2025, por lo que no podriamos responder concretamente la pregunta original pero podemos reformular la pregunta en base a los datos que tenemos a una nueva pregunta como:\n",
    "¿Como se refleja el uso de IA en estudiantes universitarios en la actualidad?"
   ]
  },
  {
   "cell_type": "code",
   "execution_count": null,
   "id": "e242847b",
   "metadata": {},
   "outputs": [],
   "source": [
    "df_bangladesh['Education Level'].unique()"
   ]
  },
  {
   "cell_type": "code",
   "execution_count": null,
   "id": "766cd7ab",
   "metadata": {},
   "outputs": [],
   "source": [
    "plt.figure(figsize=(6, 4))\n",
    "frecuencias = df_bangladesh['IA Use Frequency'].unique()\n",
    "valores = df_bangladesh['IA Use Frequency'].value_counts()\n",
    "plt.bar(frecuencias, valores, color='lightblue')\n",
    "plt.show()"
   ]
  },
  {
   "cell_type": "markdown",
   "id": "4c4e06cb",
   "metadata": {},
   "source": [
    "Primero podemos ver que el uso de IA en los estudiantes es primariamente diario, pero también existe una gran cantidad que lo usa en una frecuencia bastante menor, por lo que se podria concluir que esta dividido equitativamente el uso de IA."
   ]
  },
  {
   "cell_type": "code",
   "execution_count": null,
   "id": "f5249903",
   "metadata": {},
   "outputs": [],
   "source": [
    "# Valores de frecuencia en la influencia de IA en problemas academicos\n",
    "plt.figure(figsize=(6, 4))\n",
    "frecuencias = df_bangladesh['IA influency on academics problems'].unique()\n",
    "valores = df_bangladesh['IA influency on academics problems'].value_counts()\n",
    "plt.bar(frecuencias, valores, color='lightblue')\n",
    "plt.show()"
   ]
  },
  {
   "cell_type": "markdown",
   "id": "30991c7b",
   "metadata": {},
   "source": [
    "En el gráfico de arriba, podemos apreciar que la gran mayoria de estudiantes opina que la IA ha influenciado en el desarrollo de problemas academicos, lo que refleja una relación tambien con el gráfico anterior debido al gran uso de la IA."
   ]
  },
  {
   "cell_type": "markdown",
   "id": "e75646c0",
   "metadata": {},
   "source": [
    "Ahora para el siguiente análisis, tomaremos las opiniones de si afecta positiviamente o negativamente de los estudiantes."
   ]
  },
  {
   "cell_type": "code",
   "execution_count": null,
   "id": "7d7d02de",
   "metadata": {},
   "outputs": [],
   "source": [
    "# Valores de frecuencia acerca de si los estudiantes opinan que la IA afecta positivamente y negativamente al pensamiento critico\n",
    "fig, axs = plt.subplots(nrows=1, ncols=3, figsize=(12, 5))\n",
    "frecuencias_mejora = df_bangladesh['IA help improving critical thinking and problem solving'].unique()\n",
    "valores_mejora = df_bangladesh['IA help improving critical thinking and problem solving'].value_counts()\n",
    "frecuencia_negativas = df_bangladesh['Harm of students thinking by using AI'].unique()\n",
    "valores_negativos = df_bangladesh['Harm of students thinking by using AI'].value_counts()\n",
    "frecuencia_negativas_estudiante = df_bangladesh['Creativity reduction by using AI of myself'].unique()\n",
    "valores_negativos_estudiante = df_bangladesh['Creativity reduction by using AI of myself'].value_counts()\n",
    "axs[0].bar(frecuencias_mejora, valores_mejora, color='orange')\n",
    "axs[1].bar(frecuencia_negativas, valores_negativos, color='lightblue')\n",
    "axs[2].bar(frecuencia_negativas_estudiante, valores_negativos_estudiante, color='yellow')\n",
    "axs[1].set_xticklabels(frecuencia_negativas, rotation=45, ha='right')\n",
    "plt.show()"
   ]
  },
  {
   "cell_type": "markdown",
   "id": "c6b8834d",
   "metadata": {},
   "source": [
    "Viendo los gráficos, podemos apreciar que tienen sentido y podemos relacionarlos ya que, a la izquierda una gran mayoria afirma que el uso de IA los ayuda al pensamiento crítico o a la resolución de problemas academicos, mientras que a la derecha una gran mayoria se mantiene neutral acerca de si el uso de IA perjudica en el pensamiento crítico o la resolución de problemas."
   ]
  },
  {
   "cell_type": "markdown",
   "id": "66a55c94",
   "metadata": {},
   "source": [
    "## Análisis Datos de NEM"
   ]
  },
  {
   "cell_type": "code",
   "execution_count": null,
   "id": "753e2083",
   "metadata": {},
   "outputs": [],
   "source": [
    "ruta = 'ArchivosDatos/Rendimiento/NEM-'\n",
    "years = ['2017', '2018', '2019', '2020', '2021', '2022', '2023']\n",
    "dfs_rendimientos = []\n",
    "for year in years:\n",
    "    ruta_completa = ruta + year + '.csv'\n",
    "    df = pd.read_csv(ruta_completa, sep=';')\n",
    "    dfs_rendimientos.append(df)\n",
    "df_unido = pd.concat(dfs_rendimientos)    "
   ]
  },
  {
   "cell_type": "code",
   "execution_count": null,
   "id": "16da431b",
   "metadata": {},
   "outputs": [],
   "source": [
    "df_unido.head(5)"
   ]
  },
  {
   "cell_type": "markdown",
   "id": "5c368156",
   "metadata": {},
   "source": [
    "Ya que nos interesa ver el rendimiento academico de los estudiantes vamos a usar las columnas del NEM Y el AGNO_EGRESO, pero primero queremos ver si hay que hacer alguna conversion de tipo de dato:"
   ]
  },
  {
   "cell_type": "markdown",
   "id": "60397447",
   "metadata": {},
   "source": [
    "Nos interesaria convertir la columna NEM en un objeto de tipo float"
   ]
  },
  {
   "cell_type": "code",
   "execution_count": null,
   "id": "6aa300c9",
   "metadata": {},
   "outputs": [],
   "source": [
    "df_unido['NEM'] = df_unido['NEM'].str.replace(',', '.')\n",
    "df_unido['NEM'] = df_unido['NEM'].astype(float)\n",
    "df_unido.info()"
   ]
  },
  {
   "cell_type": "markdown",
   "id": "a5cb989b",
   "metadata": {},
   "source": [
    "Ahora que tenemos nuestros tipos de datos correctos, nos gustaria ver la distribución del NEM en cada año."
   ]
  },
  {
   "cell_type": "code",
   "execution_count": null,
   "id": "33f46dac",
   "metadata": {},
   "outputs": [],
   "source": [
    "fig, ax = plt.subplots(figsize=(6, 4))\n",
    "sns.boxplot(\n",
    "    data=df_unido,\n",
    "    x='AGNO_EGRESO',\n",
    "    y='NEM'\n",
    ")\n",
    "ax.set_xlabel('Año de egreso')"
   ]
  },
  {
   "cell_type": "markdown",
   "id": "dbd7e5a7",
   "metadata": {},
   "source": [
    "En base a una de nuestra preguntas formuladas, podemos ver que en la distribución del nem de los estudiantes egresados ha ido lentamente en aumento, siendo a partir de 2020 donde empezo a haber un aumento significativo, esto puede deberse principalmente a la pandemia del COVID y tambien por consecuente la digitalización de muchos de los sistemas escolares requerido por la situación."
   ]
  },
  {
   "cell_type": "markdown",
   "id": "b4ae9e7b",
   "metadata": {},
   "source": [
    "<div style=\"text-align:center;\">\n",
    "  <h2 style=\"\n",
    "      color:#FF69B4; \n",
    "      font-family:'Segoe UI',sans-serif; \n",
    "      font-size:26px; \n",
    "      background-color:#1e1e2f; \n",
    "      padding:10px 20px; \n",
    "      border-radius:12px;\n",
    "      display:inline-block;\n",
    "      margin-bottom:5px;\n",
    "  \">\n",
    "    best-selling-books.csv\n",
    "  </h2>\n",
    "  <p style=\"\n",
    "      color:#FAA18F; \n",
    "      font-family:'Segoe UI',sans-serif; \n",
    "      font-size:14px; \n",
    "      font-style:italic;\n",
    "      margin-top:0;\n",
    "  \">\n",
    "    Analizado por Martin Serrano\n",
    "  </p>\n",
    "</div>\n"
   ]
  },
  {
   "cell_type": "markdown",
   "id": "946fe6cc",
   "metadata": {},
   "source": [
    "Importamos las librerias necesarias para el analisis de datos.\n"
   ]
  },
  {
   "cell_type": "code",
   "execution_count": null,
   "id": "ad80cfa1",
   "metadata": {},
   "outputs": [],
   "source": [
    "import pandas as pd\n",
    "import matplotlib.pyplot as plt"
   ]
  },
  {
   "cell_type": "markdown",
   "id": "547a0ea3",
   "metadata": {},
   "source": [
    "Leemos el archivo formato csv con la info que queremos buscar, y revisamos las columnas y posibles elementos nulos."
   ]
  },
  {
   "cell_type": "code",
   "execution_count": 2,
   "id": "f60cdf87",
   "metadata": {},
   "outputs": [
    {
     "ename": "FileNotFoundError",
     "evalue": "[Errno 2] No such file or directory: 'ArchivosDatos/best-selling-books.csv'",
     "output_type": "error",
     "traceback": [
      "\u001b[31m---------------------------------------------------------------------------\u001b[39m",
      "\u001b[31mFileNotFoundError\u001b[39m                         Traceback (most recent call last)",
      "\u001b[36mCell\u001b[39m\u001b[36m \u001b[39m\u001b[32mIn[2]\u001b[39m\u001b[32m, line 1\u001b[39m\n\u001b[32m----> \u001b[39m\u001b[32m1\u001b[39m df = \u001b[43mpd\u001b[49m\u001b[43m.\u001b[49m\u001b[43mread_csv\u001b[49m\u001b[43m(\u001b[49m\u001b[33;43m'\u001b[39;49m\u001b[33;43mArchivosDatos/best-selling-books.csv\u001b[39;49m\u001b[33;43m'\u001b[39;49m\u001b[43m)\u001b[49m\n\u001b[32m      2\u001b[39m df.info()\n",
      "\u001b[36mFile \u001b[39m\u001b[32m~\\AppData\\Local\\Programs\\Python\\Python312\\Lib\\site-packages\\pandas\\io\\parsers\\readers.py:1026\u001b[39m, in \u001b[36mread_csv\u001b[39m\u001b[34m(filepath_or_buffer, sep, delimiter, header, names, index_col, usecols, dtype, engine, converters, true_values, false_values, skipinitialspace, skiprows, skipfooter, nrows, na_values, keep_default_na, na_filter, verbose, skip_blank_lines, parse_dates, infer_datetime_format, keep_date_col, date_parser, date_format, dayfirst, cache_dates, iterator, chunksize, compression, thousands, decimal, lineterminator, quotechar, quoting, doublequote, escapechar, comment, encoding, encoding_errors, dialect, on_bad_lines, delim_whitespace, low_memory, memory_map, float_precision, storage_options, dtype_backend)\u001b[39m\n\u001b[32m   1013\u001b[39m kwds_defaults = _refine_defaults_read(\n\u001b[32m   1014\u001b[39m     dialect,\n\u001b[32m   1015\u001b[39m     delimiter,\n\u001b[32m   (...)\u001b[39m\u001b[32m   1022\u001b[39m     dtype_backend=dtype_backend,\n\u001b[32m   1023\u001b[39m )\n\u001b[32m   1024\u001b[39m kwds.update(kwds_defaults)\n\u001b[32m-> \u001b[39m\u001b[32m1026\u001b[39m \u001b[38;5;28;01mreturn\u001b[39;00m \u001b[43m_read\u001b[49m\u001b[43m(\u001b[49m\u001b[43mfilepath_or_buffer\u001b[49m\u001b[43m,\u001b[49m\u001b[43m \u001b[49m\u001b[43mkwds\u001b[49m\u001b[43m)\u001b[49m\n",
      "\u001b[36mFile \u001b[39m\u001b[32m~\\AppData\\Local\\Programs\\Python\\Python312\\Lib\\site-packages\\pandas\\io\\parsers\\readers.py:620\u001b[39m, in \u001b[36m_read\u001b[39m\u001b[34m(filepath_or_buffer, kwds)\u001b[39m\n\u001b[32m    617\u001b[39m _validate_names(kwds.get(\u001b[33m\"\u001b[39m\u001b[33mnames\u001b[39m\u001b[33m\"\u001b[39m, \u001b[38;5;28;01mNone\u001b[39;00m))\n\u001b[32m    619\u001b[39m \u001b[38;5;66;03m# Create the parser.\u001b[39;00m\n\u001b[32m--> \u001b[39m\u001b[32m620\u001b[39m parser = \u001b[43mTextFileReader\u001b[49m\u001b[43m(\u001b[49m\u001b[43mfilepath_or_buffer\u001b[49m\u001b[43m,\u001b[49m\u001b[43m \u001b[49m\u001b[43m*\u001b[49m\u001b[43m*\u001b[49m\u001b[43mkwds\u001b[49m\u001b[43m)\u001b[49m\n\u001b[32m    622\u001b[39m \u001b[38;5;28;01mif\u001b[39;00m chunksize \u001b[38;5;129;01mor\u001b[39;00m iterator:\n\u001b[32m    623\u001b[39m     \u001b[38;5;28;01mreturn\u001b[39;00m parser\n",
      "\u001b[36mFile \u001b[39m\u001b[32m~\\AppData\\Local\\Programs\\Python\\Python312\\Lib\\site-packages\\pandas\\io\\parsers\\readers.py:1620\u001b[39m, in \u001b[36mTextFileReader.__init__\u001b[39m\u001b[34m(self, f, engine, **kwds)\u001b[39m\n\u001b[32m   1617\u001b[39m     \u001b[38;5;28mself\u001b[39m.options[\u001b[33m\"\u001b[39m\u001b[33mhas_index_names\u001b[39m\u001b[33m\"\u001b[39m] = kwds[\u001b[33m\"\u001b[39m\u001b[33mhas_index_names\u001b[39m\u001b[33m\"\u001b[39m]\n\u001b[32m   1619\u001b[39m \u001b[38;5;28mself\u001b[39m.handles: IOHandles | \u001b[38;5;28;01mNone\u001b[39;00m = \u001b[38;5;28;01mNone\u001b[39;00m\n\u001b[32m-> \u001b[39m\u001b[32m1620\u001b[39m \u001b[38;5;28mself\u001b[39m._engine = \u001b[38;5;28;43mself\u001b[39;49m\u001b[43m.\u001b[49m\u001b[43m_make_engine\u001b[49m\u001b[43m(\u001b[49m\u001b[43mf\u001b[49m\u001b[43m,\u001b[49m\u001b[43m \u001b[49m\u001b[38;5;28;43mself\u001b[39;49m\u001b[43m.\u001b[49m\u001b[43mengine\u001b[49m\u001b[43m)\u001b[49m\n",
      "\u001b[36mFile \u001b[39m\u001b[32m~\\AppData\\Local\\Programs\\Python\\Python312\\Lib\\site-packages\\pandas\\io\\parsers\\readers.py:1880\u001b[39m, in \u001b[36mTextFileReader._make_engine\u001b[39m\u001b[34m(self, f, engine)\u001b[39m\n\u001b[32m   1878\u001b[39m     \u001b[38;5;28;01mif\u001b[39;00m \u001b[33m\"\u001b[39m\u001b[33mb\u001b[39m\u001b[33m\"\u001b[39m \u001b[38;5;129;01mnot\u001b[39;00m \u001b[38;5;129;01min\u001b[39;00m mode:\n\u001b[32m   1879\u001b[39m         mode += \u001b[33m\"\u001b[39m\u001b[33mb\u001b[39m\u001b[33m\"\u001b[39m\n\u001b[32m-> \u001b[39m\u001b[32m1880\u001b[39m \u001b[38;5;28mself\u001b[39m.handles = \u001b[43mget_handle\u001b[49m\u001b[43m(\u001b[49m\n\u001b[32m   1881\u001b[39m \u001b[43m    \u001b[49m\u001b[43mf\u001b[49m\u001b[43m,\u001b[49m\n\u001b[32m   1882\u001b[39m \u001b[43m    \u001b[49m\u001b[43mmode\u001b[49m\u001b[43m,\u001b[49m\n\u001b[32m   1883\u001b[39m \u001b[43m    \u001b[49m\u001b[43mencoding\u001b[49m\u001b[43m=\u001b[49m\u001b[38;5;28;43mself\u001b[39;49m\u001b[43m.\u001b[49m\u001b[43moptions\u001b[49m\u001b[43m.\u001b[49m\u001b[43mget\u001b[49m\u001b[43m(\u001b[49m\u001b[33;43m\"\u001b[39;49m\u001b[33;43mencoding\u001b[39;49m\u001b[33;43m\"\u001b[39;49m\u001b[43m,\u001b[49m\u001b[43m \u001b[49m\u001b[38;5;28;43;01mNone\u001b[39;49;00m\u001b[43m)\u001b[49m\u001b[43m,\u001b[49m\n\u001b[32m   1884\u001b[39m \u001b[43m    \u001b[49m\u001b[43mcompression\u001b[49m\u001b[43m=\u001b[49m\u001b[38;5;28;43mself\u001b[39;49m\u001b[43m.\u001b[49m\u001b[43moptions\u001b[49m\u001b[43m.\u001b[49m\u001b[43mget\u001b[49m\u001b[43m(\u001b[49m\u001b[33;43m\"\u001b[39;49m\u001b[33;43mcompression\u001b[39;49m\u001b[33;43m\"\u001b[39;49m\u001b[43m,\u001b[49m\u001b[43m \u001b[49m\u001b[38;5;28;43;01mNone\u001b[39;49;00m\u001b[43m)\u001b[49m\u001b[43m,\u001b[49m\n\u001b[32m   1885\u001b[39m \u001b[43m    \u001b[49m\u001b[43mmemory_map\u001b[49m\u001b[43m=\u001b[49m\u001b[38;5;28;43mself\u001b[39;49m\u001b[43m.\u001b[49m\u001b[43moptions\u001b[49m\u001b[43m.\u001b[49m\u001b[43mget\u001b[49m\u001b[43m(\u001b[49m\u001b[33;43m\"\u001b[39;49m\u001b[33;43mmemory_map\u001b[39;49m\u001b[33;43m\"\u001b[39;49m\u001b[43m,\u001b[49m\u001b[43m \u001b[49m\u001b[38;5;28;43;01mFalse\u001b[39;49;00m\u001b[43m)\u001b[49m\u001b[43m,\u001b[49m\n\u001b[32m   1886\u001b[39m \u001b[43m    \u001b[49m\u001b[43mis_text\u001b[49m\u001b[43m=\u001b[49m\u001b[43mis_text\u001b[49m\u001b[43m,\u001b[49m\n\u001b[32m   1887\u001b[39m \u001b[43m    \u001b[49m\u001b[43merrors\u001b[49m\u001b[43m=\u001b[49m\u001b[38;5;28;43mself\u001b[39;49m\u001b[43m.\u001b[49m\u001b[43moptions\u001b[49m\u001b[43m.\u001b[49m\u001b[43mget\u001b[49m\u001b[43m(\u001b[49m\u001b[33;43m\"\u001b[39;49m\u001b[33;43mencoding_errors\u001b[39;49m\u001b[33;43m\"\u001b[39;49m\u001b[43m,\u001b[49m\u001b[43m \u001b[49m\u001b[33;43m\"\u001b[39;49m\u001b[33;43mstrict\u001b[39;49m\u001b[33;43m\"\u001b[39;49m\u001b[43m)\u001b[49m\u001b[43m,\u001b[49m\n\u001b[32m   1888\u001b[39m \u001b[43m    \u001b[49m\u001b[43mstorage_options\u001b[49m\u001b[43m=\u001b[49m\u001b[38;5;28;43mself\u001b[39;49m\u001b[43m.\u001b[49m\u001b[43moptions\u001b[49m\u001b[43m.\u001b[49m\u001b[43mget\u001b[49m\u001b[43m(\u001b[49m\u001b[33;43m\"\u001b[39;49m\u001b[33;43mstorage_options\u001b[39;49m\u001b[33;43m\"\u001b[39;49m\u001b[43m,\u001b[49m\u001b[43m \u001b[49m\u001b[38;5;28;43;01mNone\u001b[39;49;00m\u001b[43m)\u001b[49m\u001b[43m,\u001b[49m\n\u001b[32m   1889\u001b[39m \u001b[43m\u001b[49m\u001b[43m)\u001b[49m\n\u001b[32m   1890\u001b[39m \u001b[38;5;28;01massert\u001b[39;00m \u001b[38;5;28mself\u001b[39m.handles \u001b[38;5;129;01mis\u001b[39;00m \u001b[38;5;129;01mnot\u001b[39;00m \u001b[38;5;28;01mNone\u001b[39;00m\n\u001b[32m   1891\u001b[39m f = \u001b[38;5;28mself\u001b[39m.handles.handle\n",
      "\u001b[36mFile \u001b[39m\u001b[32m~\\AppData\\Local\\Programs\\Python\\Python312\\Lib\\site-packages\\pandas\\io\\common.py:873\u001b[39m, in \u001b[36mget_handle\u001b[39m\u001b[34m(path_or_buf, mode, encoding, compression, memory_map, is_text, errors, storage_options)\u001b[39m\n\u001b[32m    868\u001b[39m \u001b[38;5;28;01melif\u001b[39;00m \u001b[38;5;28misinstance\u001b[39m(handle, \u001b[38;5;28mstr\u001b[39m):\n\u001b[32m    869\u001b[39m     \u001b[38;5;66;03m# Check whether the filename is to be opened in binary mode.\u001b[39;00m\n\u001b[32m    870\u001b[39m     \u001b[38;5;66;03m# Binary mode does not support 'encoding' and 'newline'.\u001b[39;00m\n\u001b[32m    871\u001b[39m     \u001b[38;5;28;01mif\u001b[39;00m ioargs.encoding \u001b[38;5;129;01mand\u001b[39;00m \u001b[33m\"\u001b[39m\u001b[33mb\u001b[39m\u001b[33m\"\u001b[39m \u001b[38;5;129;01mnot\u001b[39;00m \u001b[38;5;129;01min\u001b[39;00m ioargs.mode:\n\u001b[32m    872\u001b[39m         \u001b[38;5;66;03m# Encoding\u001b[39;00m\n\u001b[32m--> \u001b[39m\u001b[32m873\u001b[39m         handle = \u001b[38;5;28;43mopen\u001b[39;49m\u001b[43m(\u001b[49m\n\u001b[32m    874\u001b[39m \u001b[43m            \u001b[49m\u001b[43mhandle\u001b[49m\u001b[43m,\u001b[49m\n\u001b[32m    875\u001b[39m \u001b[43m            \u001b[49m\u001b[43mioargs\u001b[49m\u001b[43m.\u001b[49m\u001b[43mmode\u001b[49m\u001b[43m,\u001b[49m\n\u001b[32m    876\u001b[39m \u001b[43m            \u001b[49m\u001b[43mencoding\u001b[49m\u001b[43m=\u001b[49m\u001b[43mioargs\u001b[49m\u001b[43m.\u001b[49m\u001b[43mencoding\u001b[49m\u001b[43m,\u001b[49m\n\u001b[32m    877\u001b[39m \u001b[43m            \u001b[49m\u001b[43merrors\u001b[49m\u001b[43m=\u001b[49m\u001b[43merrors\u001b[49m\u001b[43m,\u001b[49m\n\u001b[32m    878\u001b[39m \u001b[43m            \u001b[49m\u001b[43mnewline\u001b[49m\u001b[43m=\u001b[49m\u001b[33;43m\"\u001b[39;49m\u001b[33;43m\"\u001b[39;49m\u001b[43m,\u001b[49m\n\u001b[32m    879\u001b[39m \u001b[43m        \u001b[49m\u001b[43m)\u001b[49m\n\u001b[32m    880\u001b[39m     \u001b[38;5;28;01melse\u001b[39;00m:\n\u001b[32m    881\u001b[39m         \u001b[38;5;66;03m# Binary mode\u001b[39;00m\n\u001b[32m    882\u001b[39m         handle = \u001b[38;5;28mopen\u001b[39m(handle, ioargs.mode)\n",
      "\u001b[31mFileNotFoundError\u001b[39m: [Errno 2] No such file or directory: 'ArchivosDatos/best-selling-books.csv'"
     ]
    }
   ],
   "source": [
    "df = pd.read_csv('ArchivosDatos/best-selling-books.csv')\n",
    "df.info()"
   ]
  },
  {
   "cell_type": "markdown",
   "id": "a3d9f705",
   "metadata": {},
   "source": [
    "Revisamos si hay filas duplicadas"
   ]
  },
  {
   "cell_type": "code",
   "execution_count": null,
   "id": "fc28881e",
   "metadata": {},
   "outputs": [],
   "source": [
    "print(f\"Cantidad de filas duplicadas: {df[df.duplicated].shape[0]:,}\")\n",
    "df[df.duplicated]"
   ]
  },
  {
   "cell_type": "markdown",
   "id": "98da3b44",
   "metadata": {},
   "source": [
    "Removemos las filas cuales tienen elementos nulos en la columna ```'Genre'``` y revisamos nuevamente."
   ]
  },
  {
   "cell_type": "code",
   "execution_count": null,
   "id": "8020fa3b",
   "metadata": {},
   "outputs": [],
   "source": [
    "df_clean = df.dropna(subset=['Genre'])\n",
    "df_clean.info()"
   ]
  },
  {
   "cell_type": "markdown",
   "id": "eb8a398e",
   "metadata": {},
   "source": [
    "Eliminamos espacios antes y después de los generos en la columna ```'Genre'``` y los estandarizamos haciendo que esten en minusculas."
   ]
  },
  {
   "cell_type": "code",
   "execution_count": null,
   "id": "f6c55440",
   "metadata": {},
   "outputs": [],
   "source": [
    "df_clean_final = df_clean[df_clean['Genre'].str.strip() != '']\n",
    "df_clean_final['Genre'] = df_clean_final['Genre'].str.strip()\n",
    "df_clean_final['Genre'] = df_clean_final['Genre'].str.lower()\n",
    "df_clean_final['Genre'].unique()"
   ]
  },
  {
   "cell_type": "markdown",
   "id": "c0ba4d40",
   "metadata": {},
   "source": [
    "Buscamos los generos que nos interesan en ```'Genre'``` y los añadimos a un nuevo DataFrame."
   ]
  },
  {
   "cell_type": "code",
   "execution_count": null,
   "id": "f5ebb620",
   "metadata": {},
   "outputs": [],
   "source": [
    "generos_buscados = ['anthropology', 'astrophysics', 'philosophy,', \n",
    "                    'history', 'popular science', 'essay/literature', 'cosmology'\n",
    "                    , 'social science,']\n",
    "patron = '|'.join(generos_buscados)\n",
    "libros_estudio = df_clean_final[df_clean_final['Genre'].str.contains(patron, na=False)]\n",
    "print(f'La cantidad de libros Best Sellers es: {len(df_clean_final)}')\n",
    "print(f'La cantidad de libros de estudios es: {len(libros_estudio)}')\n",
    "libros_estudio.head()\n",
    "\n",
    "#Este codigo fue generado con ayuda de ChatGPT bajo el prompt: 'tengo un dataframe de pandas de libros los cuales tienen la columna 'Genre' como puedo buscar los genres que tengo en una lista en el dataframe'"
   ]
  },
  {
   "cell_type": "markdown",
   "id": "cf59eb10",
   "metadata": {},
   "source": [
    "Eliminamos los libros que queriamos encontrar del DataFrame con todos los libros y revisamos."
   ]
  },
  {
   "cell_type": "code",
   "execution_count": null,
   "id": "d921ce55",
   "metadata": {},
   "outputs": [],
   "source": [
    "nuevo_df = df_clean_final.drop(libros_estudio.index)\n",
    "nuevo_df.info()"
   ]
  },
  {
   "cell_type": "markdown",
   "id": "44448168",
   "metadata": {},
   "source": [
    "Creamos un grafico para comparar ventas de los libros de estudio con las ventas de los demás libros."
   ]
  },
  {
   "cell_type": "code",
   "execution_count": null,
   "id": "e4199e9b",
   "metadata": {},
   "outputs": [],
   "source": [
    "total_ventas_estudio = libros_estudio['Approximate sales in millions'].sum().round()\n",
    "total_ventas_demas = nuevo_df['Approximate sales in millions'].sum().round()\n",
    "\n",
    "labels = ['Libros de estudio', 'Libros de otros generos']\n",
    "valores = [total_ventas_estudio, total_ventas_demas]\n",
    "fig, ax = plt.subplots(figsize=(7, 5))\n",
    "bars = ax.bar(labels, valores, color=['purple', 'green'], width=0.5)\n",
    "ax.set_ylabel('Ventas totales aproximadas en millones')\n",
    "ax.set_title('Comparacion de ventas de libros de estudios y libros de otros generos')\n",
    "plt.show()\n",
    "\n",
    "print(f'Ventas totales aproximadas en millones de los libros de estudio: {total_ventas_estudio}')\n",
    "print(f'Ventas totales aproximadas en millones de libros de otros generos: {total_ventas_demas}')"
   ]
  },
  {
   "cell_type": "markdown",
   "id": "e7d1a2a7",
   "metadata": {},
   "source": [
    "En base a estos datos podemos ver que tan solo 4 de los 118 libros Best Seller son libros de estudio, esto acompañado con la cantidad de ventas de 125 millones de ventas de libros de estudios a comparación de los 4449 millones de ventas de los libros de otros generos, nos permite concluir que el uso de libros de estudio en el Siglo XXI va cada vez mas en decadencia."
   ]
  },
  {
   "cell_type": "markdown",
   "id": "d2af32ff",
   "metadata": {},
   "source": [
    "<div style=\"text-align:center;\">\n",
    "  <h2 style=\"\n",
    "      color:#FF69B4; \n",
    "      font-family:'Segoe UI',sans-serif; \n",
    "      font-size:26px; \n",
    "      background-color:#1e1e2f; \n",
    "      padding:10px 20px; \n",
    "      border-radius:12px;\n",
    "      display:inline-block;\n",
    "      margin-bottom:5px;\n",
    "  \">\n",
    "    bestsellers_with_categories.csv\n",
    "  </h2>\n",
    "  <p style=\"\n",
    "      color:#FAA18F; \n",
    "      font-family:'Segoe UI',sans-serif; \n",
    "      font-size:14px; \n",
    "      font-style:italic;\n",
    "      margin-top:0;\n",
    "  \">\n",
    "    Analizado por Martin Serrano\n",
    "  </p>\n",
    "</div>\n"
   ]
  },
  {
   "cell_type": "markdown",
   "id": "9617128e",
   "metadata": {},
   "source": [
    "Importamos las librerias necesarias para el analisis de datos."
   ]
  },
  {
   "cell_type": "code",
   "execution_count": null,
   "id": "3c6aedc5",
   "metadata": {},
   "outputs": [],
   "source": [
    "import pandas as pd\n",
    "import matplotlib.pyplot as plt"
   ]
  },
  {
   "cell_type": "markdown",
   "id": "8c240346",
   "metadata": {},
   "source": [
    "Leemos el archivo formato csv con la info que queremos buscar, y revisamos las columnas y posibles elementos nulos."
   ]
  },
  {
   "cell_type": "code",
   "execution_count": null,
   "id": "e6c8b37f",
   "metadata": {},
   "outputs": [],
   "source": [
    "df = pd.read_csv('ArchivosDatos/bestsellers_with_categories.csv')\n",
    "df.info()"
   ]
  },
  {
   "cell_type": "markdown",
   "id": "d6563bde",
   "metadata": {},
   "source": [
    "Revisamos si hay filas duplicadas."
   ]
  },
  {
   "cell_type": "code",
   "execution_count": null,
   "id": "6bc97898",
   "metadata": {},
   "outputs": [],
   "source": [
    "print(f\"Cantidad de filas duplicadas: {df[df.duplicated].shape[0]:,}\")\n",
    "df[df.duplicated]"
   ]
  },
  {
   "cell_type": "markdown",
   "id": "445a2370",
   "metadata": {},
   "source": [
    "Vemos que no hay elementos nulos pero aplicaremos el codigo igualmente para prevenir."
   ]
  },
  {
   "cell_type": "code",
   "execution_count": null,
   "id": "38046b62",
   "metadata": {},
   "outputs": [],
   "source": [
    "df.dropna()\n",
    "df.info()"
   ]
  },
  {
   "cell_type": "markdown",
   "id": "042de27d",
   "metadata": {},
   "source": [
    "Vemos cuales son los generos de los libros."
   ]
  },
  {
   "cell_type": "code",
   "execution_count": null,
   "id": "0705bfc9",
   "metadata": {},
   "outputs": [],
   "source": [
    "df['Genre'].unique()"
   ]
  },
  {
   "cell_type": "markdown",
   "id": "421d7ec2",
   "metadata": {},
   "source": [
    "Creamos un DataFrame de los libros que nos interesan y vemos sus años de publicación."
   ]
  },
  {
   "cell_type": "code",
   "execution_count": null,
   "id": "0f941ae8",
   "metadata": {},
   "outputs": [],
   "source": [
    "palabras_clave = ['Study' ,'study', 'Studies', 'studies', 'Essay',\n",
    "                'essay', 'Essays', 'essays', 'History', 'history', \n",
    "                'Science', 'science', 'Math', 'math', 'Economics',\n",
    "                'economics']\n",
    "patron = '|'.join(palabras_clave)\n",
    "libros_estudio = df[df['Name'].str.contains(patron, na=False)]\n",
    "print(f'La cantidad de libros de estudios es: {len(libros_estudio)}')\n",
    "libros_estudio.head()\n"
   ]
  },
  {
   "cell_type": "code",
   "execution_count": null,
   "id": "3f6c60c4",
   "metadata": {},
   "outputs": [],
   "source": [
    "print(f'Los años de publicación de los libros van de {df['Year'].min()} a {df['Year'].max()}')\n",
    "print(f'Los años de publicación de los libros de estudio van de {libros_estudio['Year'].min()} a {libros_estudio['Year'].max()}')\n"
   ]
  },
  {
   "cell_type": "markdown",
   "id": "85c5203f",
   "metadata": {},
   "source": [
    "Comparamos la cantidad de libros de estudio con la cantidad de libros de otros generos."
   ]
  },
  {
   "cell_type": "code",
   "execution_count": null,
   "id": "997b103e",
   "metadata": {},
   "outputs": [],
   "source": [
    "df_otros_generos = df.drop(libros_estudio.index)\n",
    "print(f'La cantidad de libros de estudio es: {len(libros_estudio)}')\n",
    "print(f'La cantidad de libros de otros generos es: {len(df_otros_generos)}')"
   ]
  },
  {
   "cell_type": "markdown",
   "id": "cf1c73ae",
   "metadata": {},
   "source": [
    "En base a estos datos podemos ver que la cantidad de libros de estudio es considerablemente menor a la cantidad de libros de otros generos, esto nos permite concluir que, al igual que en el otro caso de estudio, el uso de los libros de estudio van cada vez mas en decadencia."
   ]
  },
  {
   "cell_type": "markdown",
   "id": "6c637bdd",
   "metadata": {},
   "source": [
    "También vemos que la diferencia en los de publicación de los libros de estudio con los demás libros no es lo suficientemente amplia como para considerarlo un factor que altere los resultados."
   ]
  },
  {
   "cell_type": "markdown",
   "id": "23690596",
   "metadata": {},
   "source": [
    "<div style=\"text-align:center;\">\n",
    "  <h2 style=\"\n",
    "      color:#FF69B4; \n",
    "      font-family:'Segoe UI',sans-serif; \n",
    "      font-size:26px; \n",
    "      background-color:#1e1e2f; \n",
    "      padding:10px 20px; \n",
    "      border-radius:12px;\n",
    "      display:inline-block;\n",
    "      margin-bottom:5px;\n",
    "  \">\n",
    "    Reading Habits Based on Gender Undergraduate Students Dataset on Book Preferences and Engagement\\Reading Habits Among Undergraduate Students.xlsx\n",
    "  </h2>\n",
    "  <p style=\"\n",
    "      color:#FAA18F; \n",
    "      font-family:'Segoe UI',sans-serif; \n",
    "      font-size:14px; \n",
    "      font-style:italic;\n",
    "      margin-top:0;\n",
    "  \">\n",
    "    Analizado por Pablo Rodriguez\n",
    "  </p>\n",
    "</div>\n"
   ]
  },
  {
   "cell_type": "code",
   "execution_count": null,
   "id": "94a9907c",
   "metadata": {},
   "outputs": [],
   "source": [
    "import pandas as pd\n",
    "import matplotlib.pyplot as plt\n",
    "# comprobamos que no hayan datos nulos\n",
    "df = pd.read_excel(\"ArchivosDatos\\Reading Habits Among Undergraduate Students.xlsx\")\n",
    "df.info()"
   ]
  },
  {
   "cell_type": "code",
   "execution_count": null,
   "id": "d1637446",
   "metadata": {},
   "outputs": [],
   "source": [
    "# aqui solo cambiamos los datos con None por 0 para poder ocuparlos \n",
    "df['Number of e-books you read last two years'] = df['Number of e-books you read last two years'].fillna('0')\n",
    "df['Number of printed books you read last two years'] = df['Number of printed books you read last two years'].fillna('0')\n",
    "\n",
    "df['Number of e-books you read last two years'] = df['Number of e-books you read last two years'].astype(str)\n",
    "df['Number of printed books you read last two years'] = df['Number of printed books you read last two years'].astype(str)\n",
    "\n",
    "\n",
    "# solo pruebas para visivilizar datos en las filas y confirmar que hayan solo datos que nos interesan\n",
    "print(df['Gender'].unique())\n",
    "print(df['Which type of books do you read most of the time'].unique())\n",
    "print(df['Which language books do you like to read'].unique())\n",
    "print(df['The format that you used for reading books'].unique())\n",
    "print(df['Number of printed books you read last two years'].unique())\n",
    "print(df['Number of e-books you read last two years'].unique())\n",
    "print(df['Age'].unique())\n"
   ]
  },
  {
   "cell_type": "code",
   "execution_count": null,
   "id": "2b79b754",
   "metadata": {},
   "outputs": [],
   "source": [
    "orden_rangos = ['0','1-5', '6-10', '11-15', '16-20', 'More than 20']\n",
    "printed_counts = df['Number of printed books you read last two years'].value_counts()\n",
    "plt.bar(printed_counts.index, printed_counts.values, color='salmon')\n",
    "plt.title('Libros impresos leídos últimos 2 años sin reindex')\n",
    "plt.xlabel('Rango de libros')\n",
    "plt.ylabel('Número de personas')\n",
    "plt.show()\n",
    "df['Number of printed books you read last two years'].value_counts()\n",
    "# el reindex me lo dio la IA ya que el value_count me los tira en orden y asi hacemos que el grafico quede mas claro \n",
    "\n",
    "printed_counts = printed_counts.reindex(orden_rangos, fill_value=0) \n",
    "\n",
    "plt.bar(printed_counts.index, printed_counts.values, color='salmon')\n",
    "plt.title('Libros impresos leídos últimos 2 años')\n",
    "plt.xlabel('Rango de libros')\n",
    "plt.ylabel('Número de personas')\n",
    "plt.show()\n",
    "df['Number of printed books you read last two years'].value_counts() "
   ]
  },
  {
   "cell_type": "code",
   "execution_count": null,
   "id": "481eb4bb",
   "metadata": {},
   "outputs": [],
   "source": [
    "# entonces hacemos lo mismo para los e-books y copiare el grafico de arriba para hacer una comparativa\n",
    "orden_rangos = ['0','1-5', '6-10', '11-15', '16-20', 'More than 20']\n",
    "conteo_datos = df['Number of printed books you read last two years'].value_counts()\n",
    "conteo_datos = conteo_datos.reindex(orden_rangos, fill_value=0) \n",
    "\n",
    "plt.bar(conteo_datos.index, conteo_datos.values, color='blue')\n",
    "plt.title('Libros impresos leídos últimos 2 años')\n",
    "plt.xlabel('Rango de libros')\n",
    "plt.ylabel('Número de personas')\n",
    "plt.show()\n",
    "\n",
    "\n",
    "conteo_datos2 = df['Number of e-books you read last two years'].value_counts()\n",
    "conteo_datos2 = conteo_datos2.reindex(orden_rangos, fill_value=0) \n",
    "\n",
    "plt.bar(conteo_datos2.index, conteo_datos2.values, color='red')\n",
    "plt.title('e-books leídos últimos 2 años')\n",
    "plt.xlabel('Rango de e-books')\n",
    "plt.ylabel('Número de personas')\n",
    "plt.show()\n"
   ]
  },
  {
   "cell_type": "code",
   "execution_count": null,
   "id": "54570f2f",
   "metadata": {},
   "outputs": [],
   "source": [
    "df['Number of e-books you read last two years'].value_counts() "
   ]
  },
  {
   "cell_type": "code",
   "execution_count": null,
   "id": "0dd154f2",
   "metadata": {},
   "outputs": [],
   "source": [
    "df['Number of printed books you read last two years'].value_counts() "
   ]
  },
  {
   "cell_type": "markdown",
   "id": "bf63ed90",
   "metadata": {},
   "source": [
    "con esta comparativa nos damos cuenta que en una investigacion que recopilo datos de personas desde los 18 a los 23 años la cual de acuerdo al grfico vemos que en los rangos no hay mucha diferencia aunque donde mas se ve una diferencia es cuando se habla de que no leen ya que en e-books es mayor a libros impresos lo que quierre decir con la misma cantidad de datos que la gente si prefiere seguir leyendo en libros impresos"
   ]
  },
  {
   "cell_type": "code",
   "execution_count": null,
   "id": "1bf460be",
   "metadata": {},
   "outputs": [],
   "source": [
    "#con esto cambiamos todo los elementos a string y revisamos cuantos leen con terminos academicos \n",
    "df['Which type of books do you read most of the time'].astype(str)\n",
    "df['Which type of books do you read most of the time'].value_counts()"
   ]
  },
  {
   "cell_type": "code",
   "execution_count": null,
   "id": "a7e499bd",
   "metadata": {},
   "outputs": [],
   "source": [
    "#queremos saber lectura con sentido academico asi que creamos un nuevo df \n",
    "df_academico = df[df['Which type of books do you read most of the time'] == 'Academic']\n",
    "orden_rangos1 = ['Both','Printed', 'E-books']\n",
    "conteo_datos2 = df_academico['The format that you used for reading books'].value_counts()\n",
    "conteo_datos2 = conteo_datos2.reindex(orden_rangos1, fill_value=0) \n",
    "\n",
    "plt.bar(conteo_datos2.index, conteo_datos2.values, color='green')\n",
    "plt.title('formato preferido de las personas en el ambito academico')\n",
    "plt.xlabel('formato de preferencia')\n",
    "plt.ylabel('Número de personas')\n",
    "plt.show()\n",
    "df_academico['The format that you used for reading books'].value_counts()"
   ]
  },
  {
   "cell_type": "markdown",
   "id": "5b6e0b8a",
   "metadata": {},
   "source": [
    "con este grafico podemos ver que la gente prefiere en el ambito academico mayormente ambos formatos tanto e-books como impresos pero despues le sigue los impresos lo que quiere decir que esas personas jovenes siguen prefiriendo leer libros fisicos e informarse ocupando libros comun y corrientes"
   ]
  }
 ],
 "metadata": {
  "kernelspec": {
   "display_name": "Python 3 (ipykernel)",
   "language": "python",
   "name": "python3"
  },
  "language_info": {
   "codemirror_mode": {
    "name": "ipython",
    "version": 3
   },
   "file_extension": ".py",
   "mimetype": "text/x-python",
   "name": "python",
   "nbconvert_exporter": "python",
   "pygments_lexer": "ipython3",
   "version": "3.12.9"
  }
 },
 "nbformat": 4,
 "nbformat_minor": 5
}
