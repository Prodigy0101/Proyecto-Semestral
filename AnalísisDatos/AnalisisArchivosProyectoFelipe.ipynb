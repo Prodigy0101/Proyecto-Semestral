{
 "cells": [
  {
   "cell_type": "code",
   "execution_count": 41,
   "id": "981c780b-f4d5-4b25-9b84-9e4343a9a324",
   "metadata": {},
   "outputs": [],
   "source": [
    "import pandas as pd\n",
    "import seaborn as sns\n",
    "import matplotlib.pyplot as plt\n",
    "import bs4\n",
    "from datetime import date"
   ]
  },
  {
   "cell_type": "markdown",
   "id": "66c7c4a5-bd9d-4b05-9425-626019a2a236",
   "metadata": {},
   "source": [
    "## Análisis datos exportación celulares y computadores a Chile"
   ]
  },
  {
   "cell_type": "markdown",
   "id": "c319c890-e4d6-4ca0-b301-3938ac2b4fec",
   "metadata": {},
   "source": [
    "Primero vamos a hacer los respectivos análisis a el archivo de las exportaciones de celulares y computadores.\n",
    "Ya que al momento de cargar el archivo, este esta desordenado vamos a hacer una limpieza para poder tenerlo en un formato más comprensible."
   ]
  },
  {
   "cell_type": "code",
   "execution_count": 226,
   "id": "70e35443-121a-46ae-980b-0f56572db75d",
   "metadata": {},
   "outputs": [
    {
     "ename": "FileNotFoundError",
     "evalue": "[Errno 2] No such file or directory: 'ArchivosDatos/ExportacionComputadoresCelularesChile.xlsx'",
     "output_type": "error",
     "traceback": [
      "\u001b[31m---------------------------------------------------------------------------\u001b[39m",
      "\u001b[31mFileNotFoundError\u001b[39m                         Traceback (most recent call last)",
      "\u001b[36mCell\u001b[39m\u001b[36m \u001b[39m\u001b[32mIn[226]\u001b[39m\u001b[32m, line 1\u001b[39m\n\u001b[32m----> \u001b[39m\u001b[32m1\u001b[39m df_exportaciones = \u001b[43mpd\u001b[49m\u001b[43m.\u001b[49m\u001b[43mread_excel\u001b[49m\u001b[43m(\u001b[49m\u001b[33;43m'\u001b[39;49m\u001b[33;43mArchivosDatos/ExportacionComputadoresCelularesChile.xlsx\u001b[39;49m\u001b[33;43m'\u001b[39;49m\u001b[43m)\u001b[49m\n\u001b[32m      2\u001b[39m \u001b[38;5;66;03m# Posee demasiadas columnas por lo que vamos a tomar solo las primeras 3 que son las que nos interesan y vamos a usar una de las \u001b[39;00m\n\u001b[32m      3\u001b[39m \u001b[38;5;66;03m# filas para renombrar las columnas\u001b[39;00m\n\u001b[32m      4\u001b[39m df_exportaciones = df_exportaciones[[\u001b[33m'\u001b[39m\u001b[33mUnnamed: 0\u001b[39m\u001b[33m'\u001b[39m, \u001b[33m'\u001b[39m\u001b[33mUnnamed: 1\u001b[39m\u001b[33m'\u001b[39m, \u001b[33m'\u001b[39m\u001b[33mUnnamed: 2\u001b[39m\u001b[33m'\u001b[39m]]\n",
      "\u001b[36mFile \u001b[39m\u001b[32m~\\AppData\\Local\\Programs\\Python\\Python312\\Lib\\site-packages\\pandas\\io\\excel\\_base.py:495\u001b[39m, in \u001b[36mread_excel\u001b[39m\u001b[34m(io, sheet_name, header, names, index_col, usecols, dtype, engine, converters, true_values, false_values, skiprows, nrows, na_values, keep_default_na, na_filter, verbose, parse_dates, date_parser, date_format, thousands, decimal, comment, skipfooter, storage_options, dtype_backend, engine_kwargs)\u001b[39m\n\u001b[32m    493\u001b[39m \u001b[38;5;28;01mif\u001b[39;00m \u001b[38;5;129;01mnot\u001b[39;00m \u001b[38;5;28misinstance\u001b[39m(io, ExcelFile):\n\u001b[32m    494\u001b[39m     should_close = \u001b[38;5;28;01mTrue\u001b[39;00m\n\u001b[32m--> \u001b[39m\u001b[32m495\u001b[39m     io = \u001b[43mExcelFile\u001b[49m\u001b[43m(\u001b[49m\n\u001b[32m    496\u001b[39m \u001b[43m        \u001b[49m\u001b[43mio\u001b[49m\u001b[43m,\u001b[49m\n\u001b[32m    497\u001b[39m \u001b[43m        \u001b[49m\u001b[43mstorage_options\u001b[49m\u001b[43m=\u001b[49m\u001b[43mstorage_options\u001b[49m\u001b[43m,\u001b[49m\n\u001b[32m    498\u001b[39m \u001b[43m        \u001b[49m\u001b[43mengine\u001b[49m\u001b[43m=\u001b[49m\u001b[43mengine\u001b[49m\u001b[43m,\u001b[49m\n\u001b[32m    499\u001b[39m \u001b[43m        \u001b[49m\u001b[43mengine_kwargs\u001b[49m\u001b[43m=\u001b[49m\u001b[43mengine_kwargs\u001b[49m\u001b[43m,\u001b[49m\n\u001b[32m    500\u001b[39m \u001b[43m    \u001b[49m\u001b[43m)\u001b[49m\n\u001b[32m    501\u001b[39m \u001b[38;5;28;01melif\u001b[39;00m engine \u001b[38;5;129;01mand\u001b[39;00m engine != io.engine:\n\u001b[32m    502\u001b[39m     \u001b[38;5;28;01mraise\u001b[39;00m \u001b[38;5;167;01mValueError\u001b[39;00m(\n\u001b[32m    503\u001b[39m         \u001b[33m\"\u001b[39m\u001b[33mEngine should not be specified when passing \u001b[39m\u001b[33m\"\u001b[39m\n\u001b[32m    504\u001b[39m         \u001b[33m\"\u001b[39m\u001b[33man ExcelFile - ExcelFile already has the engine set\u001b[39m\u001b[33m\"\u001b[39m\n\u001b[32m    505\u001b[39m     )\n",
      "\u001b[36mFile \u001b[39m\u001b[32m~\\AppData\\Local\\Programs\\Python\\Python312\\Lib\\site-packages\\pandas\\io\\excel\\_base.py:1550\u001b[39m, in \u001b[36mExcelFile.__init__\u001b[39m\u001b[34m(self, path_or_buffer, engine, storage_options, engine_kwargs)\u001b[39m\n\u001b[32m   1548\u001b[39m     ext = \u001b[33m\"\u001b[39m\u001b[33mxls\u001b[39m\u001b[33m\"\u001b[39m\n\u001b[32m   1549\u001b[39m \u001b[38;5;28;01melse\u001b[39;00m:\n\u001b[32m-> \u001b[39m\u001b[32m1550\u001b[39m     ext = \u001b[43minspect_excel_format\u001b[49m\u001b[43m(\u001b[49m\n\u001b[32m   1551\u001b[39m \u001b[43m        \u001b[49m\u001b[43mcontent_or_path\u001b[49m\u001b[43m=\u001b[49m\u001b[43mpath_or_buffer\u001b[49m\u001b[43m,\u001b[49m\u001b[43m \u001b[49m\u001b[43mstorage_options\u001b[49m\u001b[43m=\u001b[49m\u001b[43mstorage_options\u001b[49m\n\u001b[32m   1552\u001b[39m \u001b[43m    \u001b[49m\u001b[43m)\u001b[49m\n\u001b[32m   1553\u001b[39m     \u001b[38;5;28;01mif\u001b[39;00m ext \u001b[38;5;129;01mis\u001b[39;00m \u001b[38;5;28;01mNone\u001b[39;00m:\n\u001b[32m   1554\u001b[39m         \u001b[38;5;28;01mraise\u001b[39;00m \u001b[38;5;167;01mValueError\u001b[39;00m(\n\u001b[32m   1555\u001b[39m             \u001b[33m\"\u001b[39m\u001b[33mExcel file format cannot be determined, you must specify \u001b[39m\u001b[33m\"\u001b[39m\n\u001b[32m   1556\u001b[39m             \u001b[33m\"\u001b[39m\u001b[33man engine manually.\u001b[39m\u001b[33m\"\u001b[39m\n\u001b[32m   1557\u001b[39m         )\n",
      "\u001b[36mFile \u001b[39m\u001b[32m~\\AppData\\Local\\Programs\\Python\\Python312\\Lib\\site-packages\\pandas\\io\\excel\\_base.py:1402\u001b[39m, in \u001b[36minspect_excel_format\u001b[39m\u001b[34m(content_or_path, storage_options)\u001b[39m\n\u001b[32m   1399\u001b[39m \u001b[38;5;28;01mif\u001b[39;00m \u001b[38;5;28misinstance\u001b[39m(content_or_path, \u001b[38;5;28mbytes\u001b[39m):\n\u001b[32m   1400\u001b[39m     content_or_path = BytesIO(content_or_path)\n\u001b[32m-> \u001b[39m\u001b[32m1402\u001b[39m \u001b[38;5;28;01mwith\u001b[39;00m \u001b[43mget_handle\u001b[49m\u001b[43m(\u001b[49m\n\u001b[32m   1403\u001b[39m \u001b[43m    \u001b[49m\u001b[43mcontent_or_path\u001b[49m\u001b[43m,\u001b[49m\u001b[43m \u001b[49m\u001b[33;43m\"\u001b[39;49m\u001b[33;43mrb\u001b[39;49m\u001b[33;43m\"\u001b[39;49m\u001b[43m,\u001b[49m\u001b[43m \u001b[49m\u001b[43mstorage_options\u001b[49m\u001b[43m=\u001b[49m\u001b[43mstorage_options\u001b[49m\u001b[43m,\u001b[49m\u001b[43m \u001b[49m\u001b[43mis_text\u001b[49m\u001b[43m=\u001b[49m\u001b[38;5;28;43;01mFalse\u001b[39;49;00m\n\u001b[32m   1404\u001b[39m \u001b[43m\u001b[49m\u001b[43m)\u001b[49m \u001b[38;5;28;01mas\u001b[39;00m handle:\n\u001b[32m   1405\u001b[39m     stream = handle.handle\n\u001b[32m   1406\u001b[39m     stream.seek(\u001b[32m0\u001b[39m)\n",
      "\u001b[36mFile \u001b[39m\u001b[32m~\\AppData\\Local\\Programs\\Python\\Python312\\Lib\\site-packages\\pandas\\io\\common.py:882\u001b[39m, in \u001b[36mget_handle\u001b[39m\u001b[34m(path_or_buf, mode, encoding, compression, memory_map, is_text, errors, storage_options)\u001b[39m\n\u001b[32m    873\u001b[39m         handle = \u001b[38;5;28mopen\u001b[39m(\n\u001b[32m    874\u001b[39m             handle,\n\u001b[32m    875\u001b[39m             ioargs.mode,\n\u001b[32m   (...)\u001b[39m\u001b[32m    878\u001b[39m             newline=\u001b[33m\"\u001b[39m\u001b[33m\"\u001b[39m,\n\u001b[32m    879\u001b[39m         )\n\u001b[32m    880\u001b[39m     \u001b[38;5;28;01melse\u001b[39;00m:\n\u001b[32m    881\u001b[39m         \u001b[38;5;66;03m# Binary mode\u001b[39;00m\n\u001b[32m--> \u001b[39m\u001b[32m882\u001b[39m         handle = \u001b[38;5;28;43mopen\u001b[39;49m\u001b[43m(\u001b[49m\u001b[43mhandle\u001b[49m\u001b[43m,\u001b[49m\u001b[43m \u001b[49m\u001b[43mioargs\u001b[49m\u001b[43m.\u001b[49m\u001b[43mmode\u001b[49m\u001b[43m)\u001b[49m\n\u001b[32m    883\u001b[39m     handles.append(handle)\n\u001b[32m    885\u001b[39m \u001b[38;5;66;03m# Convert BytesIO or file objects passed with an encoding\u001b[39;00m\n",
      "\u001b[31mFileNotFoundError\u001b[39m: [Errno 2] No such file or directory: 'ArchivosDatos/ExportacionComputadoresCelularesChile.xlsx'"
     ]
    }
   ],
   "source": [
    "df_exportaciones = pd.read_excel('ArchivosDatos/ExportacionComputadoresCelularesChile.xlsx')\n",
    "# Posee demasiadas columnas por lo que vamos a tomar solo las primeras 3 que son las que nos interesan y vamos a usar una de las \n",
    "# filas para renombrar las columnas\n",
    "df_exportaciones = df_exportaciones[['Unnamed: 0', 'Unnamed: 1', 'Unnamed: 2']]\n",
    "df_exportaciones.drop(axis=0, index=[0, 1, 3], inplace=True)\n",
    "df_exportaciones.reset_index(drop=True, inplace=True)\n",
    "df_exportaciones.columns = df_exportaciones.iloc[0]\n",
    "df_exportaciones.drop(axis=0, index=0, inplace=True)\n",
    "df_exportaciones.reset_index(drop=True, inplace=True)\n",
    "df_exportaciones.head(5)"
   ]
  },
  {
   "cell_type": "markdown",
   "id": "c483188f-1b20-4479-92e0-460d818af9dc",
   "metadata": {},
   "source": [
    "Una vez que ya ordenamos nuestro dataframe, ahora vamos a renombrar las columnas para hacer más breves los nombres y convertir nuestros tipos de datos, ya que tenemos tipos de dato object, los cuales pueden ser convertidos en float y objetos tipo datetime."
   ]
  },
  {
   "cell_type": "code",
   "execution_count": null,
   "id": "5fb89a64-abb3-46ce-96b8-f5324c4b184c",
   "metadata": {},
   "outputs": [],
   "source": [
    "df_exportaciones.info()"
   ]
  },
  {
   "cell_type": "code",
   "execution_count": null,
   "id": "5c591ae3-d36c-4b49-9ecb-4c506afab581",
   "metadata": {},
   "outputs": [],
   "source": [
    "df_exportaciones.rename(columns={'Balanza de pagos, importaciones, bienes de consumo durables, Computadores, CIF, flujo semanal': \n",
    "'Exportaciones computadores en Millones de dolares', 'Balanza de pagos, importaciones, bienes de consumo durables, Celulares, CIF, flujo semanal,':\n",
    "'Exportaciones celulares en Millones de dolares'}, inplace=True)\n",
    "df_exportaciones.head()"
   ]
  },
  {
   "cell_type": "code",
   "execution_count": null,
   "id": "0a3f28a6-f4f8-45ea-9fe5-e3925961a0ee",
   "metadata": {},
   "outputs": [],
   "source": [
    "df_exportaciones['Exportaciones computadores en Millones de dolares'] = df_exportaciones['Exportaciones computadores en Millones de dolares'].astype(float)\n",
    "df_exportaciones['Exportaciones computadores en Millones de dolares'] = df_exportaciones['Exportaciones computadores en Millones de dolares'].round(2)\n",
    "df_exportaciones['Exportaciones celulares en Millones de dolares'] = df_exportaciones['Exportaciones celulares en Millones de dolares'].astype(float)\n",
    "df_exportaciones['Exportaciones celulares en Millones de dolares'] = df_exportaciones['Exportaciones celulares en Millones de dolares'].round(2)\n",
    "fechas = df_exportaciones['FECHA'].astype(str)\n",
    "fechas = fechas.str.split()\n",
    "fechas = fechas.apply(lambda x: x[0])\n",
    "df_exportaciones['FECHA'] = pd.to_datetime(fechas)\n",
    "df_exportaciones.info()"
   ]
  },
  {
   "cell_type": "markdown",
   "id": "874ccf0e-846b-4ed7-9d50-10c24eca4d09",
   "metadata": {},
   "source": [
    "Teniendo nuestro dataframe limpiado y ordenado, primero podemos hacer un vistazo rapido de metricas que tenemos en nuestro datos:"
   ]
  },
  {
   "cell_type": "code",
   "execution_count": null,
   "id": "2cf3587e-6a8a-420d-821b-74830ef6fc7b",
   "metadata": {},
   "outputs": [],
   "source": [
    "df_exportaciones.describe()"
   ]
  },
  {
   "cell_type": "markdown",
   "id": "2ec39fb0-c74f-4bbc-9a9d-791eee2ee2a8",
   "metadata": {},
   "source": [
    "Vamos a hacer una grafica para poder ver los datos, podemos reformular la pregunta a: Como ha sido la existencia o exportacion de aparatos electronicos a lo largo del tiempo? Grafico de correlacion, talvez calcular diferencia entre cada uno durante el tiempo, y cuanto aumento las ventas en 2025 comparado a 2003"
   ]
  },
  {
   "cell_type": "code",
   "execution_count": null,
   "id": "1c56f683-8cd0-427c-b6cc-ca5c16e7fe48",
   "metadata": {},
   "outputs": [],
   "source": [
    "plt.figure(figsize=(12, 5))\n",
    "plt.plot(df_exportaciones['FECHA'], df_exportaciones['Exportaciones computadores en Millones de dolares'], label='Computador')\n",
    "plt.plot(df_exportaciones['FECHA'], df_exportaciones['Exportaciones celulares en Millones de dolares'], label='Celular')\n",
    "plt.title('Gastos de exportacion en Millones de dolares de Dispositivos Electronicos 2003-2025')\n",
    "plt.xlabel('Fechas')\n",
    "plt.ylabel('Millones de dolares')\n",
    "plt.legend(title='Dispositivos')\n",
    "plt.show()"
   ]
  },
  {
   "cell_type": "markdown",
   "id": "a0ed354d-fb0a-4496-afbe-e65a817e07e1",
   "metadata": {},
   "source": [
    "Finalmente, con la gráfica podemos establecer a simple vista que el mercado de los dispositivos electronicos a ido lentamente en aumento, con los celulares teniendo una gran mayoria a comparación de los computadores."
   ]
  },
  {
   "cell_type": "markdown",
   "id": "9585be02-5926-41e7-965e-a5d016188eed",
   "metadata": {},
   "source": [
    "## Análisis Datos Impacto IA en Universidades de Bangladesh"
   ]
  },
  {
   "cell_type": "markdown",
   "id": "22d3fc87-db75-47ed-be6e-02f08230bffe",
   "metadata": {},
   "source": [
    "Ahora vamos a realizar el análisis de el impacto de la IA en estudiantes de varias universidades de Bangladesh"
   ]
  },
  {
   "cell_type": "code",
   "execution_count": null,
   "id": "36e2e669-5c8f-4d87-b6a7-fe38f906ff91",
   "metadata": {
    "scrolled": true
   },
   "outputs": [],
   "source": [
    "df_bangladesh = pd.read_csv('ArchivosDatos/ImpactoIABangladesh.csv')\n",
    "df_bangladesh.head(5)"
   ]
  },
  {
   "cell_type": "markdown",
   "id": "ee5db350-9021-452d-b7ad-fcbb56ad8e7b",
   "metadata": {},
   "source": [
    "Podemos ver que en este caso, tenemos variables en base a una encuesta o preguntas, para lo cual tendrias datos categoricos, por lo que podemos hacer varios análisis mediante estos datos."
   ]
  },
  {
   "cell_type": "code",
   "execution_count": null,
   "id": "c85d1149-09c7-4c98-b526-e5d185b92a8f",
   "metadata": {},
   "outputs": [],
   "source": [
    "# Cambiamos los nombres para hacerlos más breves y simples\n",
    "df_bangladesh = df_bangladesh.rename(columns={'What is your university name ?': 'University',\n",
    "                              'What is your current level of education?': 'Education Level',\n",
    "                              'How often do you use AI tools like ChatGPT  for academic purposes?': 'IA Use Frequency',\n",
    "                              'How do you think ChatGPT has influenced teaching methods in your courses?': 'Influency in Teaching methods by IA',\n",
    "                              'Has ChatGPT influenced your approach to solving complex academic problems or  assignments  ? ': 'IA influency on academics problems',\n",
    "                              'Do you use ChatGPT for group study or collaborative learning ?': 'Use of IA for groups',\n",
    "                              'Do you feel that AI assists you in self-paced learning ?': 'IA assist in learning',\n",
    "                              ' Does ChatGPT help improve critical thinking and problem-solving?': 'IA help improving critical thinking and problem solving',\n",
    "                              'Has ChatGPT provided useful guidance on your career path or educational choices ?': 'IA guidance on career choices',\n",
    "                              'How worried are you about the privacy and safety of your personal data when using AI tools like ChatGPT for academic tasks?': 'Worries in Privacy and Data',\n",
    "                              'Do you think relying too much on AI tools like ChatGPT could harm students creativity and critical thinking skills?': 'Harm of students thinking by using AI',\n",
    "                              'Do you believe using AI tools like ChatGPT reduces your creativity and critical thinking?': 'Creativity reduction by using AI of myself',\n",
    "                              'Do you believe AI tools (like ChatGPT) improve your learning experience?': 'AI improves learning experience'})\n"
   ]
  },
  {
   "cell_type": "code",
   "execution_count": null,
   "id": "f6ac6944-ae46-4c53-a2a8-3689c51afe32",
   "metadata": {},
   "outputs": [],
   "source": [
    "# Limpiamos caracteres para no obtener resultados duplicados\n",
    "df_bangladesh.iloc[:, 0] = df_bangladesh.iloc[:, 0].str.title().str.strip(',').str.strip()\n",
    "df_bangladesh.iloc[:, 0] = df_bangladesh.iloc[:, 0].str.replace('  ', ' ').str.replace(',', '')\n",
    "df_bangladesh.iloc[:, 0].nunique()"
   ]
  },
  {
   "cell_type": "markdown",
   "id": "6d8ca82e-adad-40bb-a747-e893b322071e",
   "metadata": {},
   "source": [
    "Tenemos aproximadamente un total de 116 instituciones de donde provienen los estudiantes y tambien podemos ver que tenemos 3511 estudiantes entrevistados."
   ]
  },
  {
   "cell_type": "markdown",
   "id": "6a9bac3c-5884-47ce-9006-83405f0b8bfc",
   "metadata": {},
   "source": [
    "Ahora sabiendo que datos tenemos, queremos responder como ha aumentado el uso de IA en los ultimos años. Si bien el caso de estos datos sabemos que son desde junio de 2024 a enero de 2025, por lo que no podriamos responder concretamente la pregunta original pero podemos reformular la pregunta en base a los datos que tenemos a una nueva pregunta como:\n",
    "¿Como se refleja el uso de IA en estudiantes universitarios en la actualidad?"
   ]
  },
  {
   "cell_type": "code",
   "execution_count": null,
   "id": "8e45af41-512c-45ba-8ccc-6174271587c6",
   "metadata": {},
   "outputs": [],
   "source": [
    "df_bangladesh['Education Level'].unique()"
   ]
  },
  {
   "cell_type": "code",
   "execution_count": null,
   "id": "7a12bee7-f7b6-4595-824d-e1598bef3d4f",
   "metadata": {
    "scrolled": true
   },
   "outputs": [],
   "source": [
    "plt.figure(figsize=(6, 4))\n",
    "frecuencias = df_bangladesh['IA Use Frequency'].unique()\n",
    "valores = df_bangladesh['IA Use Frequency'].value_counts()\n",
    "plt.bar(frecuencias, valores, color='lightblue')\n",
    "plt.show()"
   ]
  },
  {
   "cell_type": "markdown",
   "id": "5ed3f3c2-4fd9-479b-a692-25c2d3e5f3dd",
   "metadata": {},
   "source": [
    "Primero podemos ver que el uso de IA en los estudiantes es primariamente diario, pero también existe una gran cantidad que lo usa en una frecuencia bastante menor, por lo que se podria concluir que esta dividido equitativamente el uso de IA."
   ]
  },
  {
   "cell_type": "code",
   "execution_count": null,
   "id": "2fb60138-e879-4e51-86ba-f30290bc40ef",
   "metadata": {},
   "outputs": [],
   "source": [
    "# Valores de frecuencia en la influencia de IA en problemas academicos\n",
    "plt.figure(figsize=(6, 4))\n",
    "frecuencias = df_bangladesh['IA influency on academics problems'].unique()\n",
    "valores = df_bangladesh['IA influency on academics problems'].value_counts()\n",
    "plt.bar(frecuencias, valores, color='lightblue')\n",
    "plt.show()"
   ]
  },
  {
   "cell_type": "markdown",
   "id": "4091c1ca-8ade-42d9-a9a7-6b17faab4c80",
   "metadata": {},
   "source": [
    "En el gráfico de arriba, podemos apreciar que la gran mayoria de estudiantes opina que la IA ha influenciado en el desarrollo de problemas academicos, lo que refleja una relación tambien con el gráfico anterior debido al gran uso de la IA."
   ]
  },
  {
   "cell_type": "markdown",
   "id": "6cc1e327-5af0-49a7-907e-58557cfd8809",
   "metadata": {},
   "source": [
    "Ahora para el siguiente análisis, tomaremos las opiniones de si afecta positiviamente o negativamente de los estudiantes."
   ]
  },
  {
   "cell_type": "code",
   "execution_count": 36,
   "id": "f1060e38-e450-4a4a-ad51-af97fc52eb5a",
   "metadata": {},
   "outputs": [
    {
     "ename": "NameError",
     "evalue": "name 'df_bangladesh' is not defined",
     "output_type": "error",
     "traceback": [
      "\u001b[31m---------------------------------------------------------------------------\u001b[39m",
      "\u001b[31mNameError\u001b[39m                                 Traceback (most recent call last)",
      "\u001b[36mCell\u001b[39m\u001b[36m \u001b[39m\u001b[32mIn[36]\u001b[39m\u001b[32m, line 3\u001b[39m\n\u001b[32m      1\u001b[39m \u001b[38;5;66;03m# Valores de frecuencia acerca de si los estudiantes opinan que la IA afecta positivamente y negativamente al pensamiento critico\u001b[39;00m\n\u001b[32m      2\u001b[39m fig, axs = plt.subplots(nrows=\u001b[32m1\u001b[39m, ncols=\u001b[32m3\u001b[39m, figsize=(\u001b[32m12\u001b[39m, \u001b[32m5\u001b[39m))\n\u001b[32m----> \u001b[39m\u001b[32m3\u001b[39m frecuencias_mejora = \u001b[43mdf_bangladesh\u001b[49m[\u001b[33m'\u001b[39m\u001b[33mIA help improving critical thinking and problem solving\u001b[39m\u001b[33m'\u001b[39m].unique()\n\u001b[32m      4\u001b[39m valores_mejora = df_bangladesh[\u001b[33m'\u001b[39m\u001b[33mIA help improving critical thinking and problem solving\u001b[39m\u001b[33m'\u001b[39m].value_counts()\n\u001b[32m      5\u001b[39m frecuencia_negativas = df_bangladesh[\u001b[33m'\u001b[39m\u001b[33mHarm of students thinking by using AI\u001b[39m\u001b[33m'\u001b[39m].unique()\n",
      "\u001b[31mNameError\u001b[39m: name 'df_bangladesh' is not defined"
     ]
    },
    {
     "data": {
      "image/png": "[encoded data removed]",
      "text/plain": [
       "<Figure size 1200x500 with 3 Axes>"
      ]
     },
     "metadata": {},
     "output_type": "display_data"
    }
   ],
   "source": [
    "# Valores de frecuencia acerca de si los estudiantes opinan que la IA afecta positivamente y negativamente al pensamiento critico\n",
    "fig, axs = plt.subplots(nrows=1, ncols=3, figsize=(12, 5))\n",
    "frecuencias_mejora = df_bangladesh['IA help improving critical thinking and problem solving'].unique()\n",
    "valores_mejora = df_bangladesh['IA help improving critical thinking and problem solving'].value_counts()\n",
    "frecuencia_negativas = df_bangladesh['Harm of students thinking by using AI'].unique()\n",
    "valores_negativos = df_bangladesh['Harm of students thinking by using AI'].value_counts()\n",
    "frecuencia_negativas_estudiante = df_bangladesh['Creativity reduction by using AI of myself'].unique()\n",
    "valores_negativos_estudiante = df_bangladesh['Creativity reduction by using AI of myself'].value_counts()\n",
    "axs[0].bar(frecuencias_mejora, valores_mejora, color='orange')\n",
    "axs[1].bar(frecuencia_negativas, valores_negativos, color='lightblue')\n",
    "axs[2].bar(frecuencia_negativas_estudiante, valores_negativos_estudiante, color='yellow')\n",
    "axs[1].set_xticklabels(frecuencia_negativas, rotation=45, ha='right')\n",
    "plt.show()"
   ]
  },
  {
   "cell_type": "markdown",
   "id": "a3254cf3-3649-436b-aa89-595bef1a2cc7",
   "metadata": {},
   "source": [
    "Viendo los gráficos, podemos apreciar que tienen sentido y podemos relacionarlos ya que, a la izquierda una gran mayoria afirma que el uso de IA los ayuda al pensamiento crítico o a la resolución de problemas academicos, mientras que a la derecha una gran mayoria se mantiene neutral acerca de si el uso de IA perjudica en el pensamiento crítico o la resolución de problemas."
   ]
  },
  {
   "cell_type": "markdown",
   "id": "4af2f8cf-0414-4b7f-bcbc-e1b37b80173f",
   "metadata": {},
   "source": [
    "## Análisis Datos de NEM"
   ]
  },
  {
   "cell_type": "code",
   "execution_count": 17,
   "id": "6a4d845e-42ee-4ebd-9f33-4158087f74a4",
   "metadata": {},
   "outputs": [],
   "source": [
    "ruta = 'ArchivosDatos/Rendimiento/NEM-'\n",
    "years = ['2017', '2018', '2019', '2020', '2021', '2022', '2023']\n",
    "dfs_rendimientos = []\n",
    "for year in years:\n",
    "    ruta_completa = ruta + year + '.csv'\n",
    "    df = pd.read_csv(ruta_completa, sep=';')\n",
    "    dfs_rendimientos.append(df)\n",
    "df_unido = pd.concat(dfs_rendimientos)    "
   ]
  },
  {
   "cell_type": "code",
   "execution_count": 18,
   "id": "5b148199-7469-454c-91f8-993bd79750a0",
   "metadata": {},
   "outputs": [
    {
     "data": {
      "text/html": [
       "<div>\n",
       "<style scoped>\n",
       "    .dataframe tbody tr th:only-of-type {\n",
       "        vertical-align: middle;\n",
       "    }\n",
       "\n",
       "    .dataframe tbody tr th {\n",
       "        vertical-align: top;\n",
       "    }\n",
       "\n",
       "    .dataframe thead th {\n",
       "        text-align: right;\n",
       "    }\n",
       "</style>\n",
       "<table border=\"1\" class=\"dataframe\">\n",
       "  <thead>\n",
       "    <tr style=\"text-align: right;\">\n",
       "      <th></th>\n",
       "      <th>RBD</th>\n",
       "      <th>COD_DEPE</th>\n",
       "      <th>AGNO_EGRESO</th>\n",
       "      <th>MRUN</th>\n",
       "      <th>NEM</th>\n",
       "      <th>PERCENTIL</th>\n",
       "      <th>PUESTO_10</th>\n",
       "      <th>PUESTO_30</th>\n",
       "    </tr>\n",
       "  </thead>\n",
       "  <tbody>\n",
       "    <tr>\n",
       "      <th>0</th>\n",
       "      <td>8505</td>\n",
       "      <td>5</td>\n",
       "      <td>2017</td>\n",
       "      <td>17</td>\n",
       "      <td>5,75</td>\n",
       "      <td>30</td>\n",
       "      <td>NO</td>\n",
       "      <td>SI</td>\n",
       "    </tr>\n",
       "    <tr>\n",
       "      <th>1</th>\n",
       "      <td>12716</td>\n",
       "      <td>3</td>\n",
       "      <td>2017</td>\n",
       "      <td>19</td>\n",
       "      <td>5,63</td>\n",
       "      <td>40</td>\n",
       "      <td>NO</td>\n",
       "      <td>NO</td>\n",
       "    </tr>\n",
       "    <tr>\n",
       "      <th>2</th>\n",
       "      <td>3909</td>\n",
       "      <td>2</td>\n",
       "      <td>2017</td>\n",
       "      <td>346</td>\n",
       "      <td>5,58</td>\n",
       "      <td>50</td>\n",
       "      <td>NO</td>\n",
       "      <td>NO</td>\n",
       "    </tr>\n",
       "    <tr>\n",
       "      <th>3</th>\n",
       "      <td>6830</td>\n",
       "      <td>3</td>\n",
       "      <td>2017</td>\n",
       "      <td>385</td>\n",
       "      <td>5,58</td>\n",
       "      <td>60</td>\n",
       "      <td>NO</td>\n",
       "      <td>NO</td>\n",
       "    </tr>\n",
       "    <tr>\n",
       "      <th>4</th>\n",
       "      <td>16843</td>\n",
       "      <td>3</td>\n",
       "      <td>2017</td>\n",
       "      <td>386</td>\n",
       "      <td>5,98</td>\n",
       "      <td>10</td>\n",
       "      <td>SI</td>\n",
       "      <td>SI</td>\n",
       "    </tr>\n",
       "  </tbody>\n",
       "</table>\n",
       "</div>"
      ],
      "text/plain": [
       "     RBD  COD_DEPE  AGNO_EGRESO  MRUN   NEM  PERCENTIL PUESTO_10 PUESTO_30\n",
       "0   8505         5         2017    17  5,75         30        NO        SI\n",
       "1  12716         3         2017    19  5,63         40        NO        NO\n",
       "2   3909         2         2017   346  5,58         50        NO        NO\n",
       "3   6830         3         2017   385  5,58         60        NO        NO\n",
       "4  16843         3         2017   386  5,98         10        SI        SI"
      ]
     },
     "execution_count": 18,
     "metadata": {},
     "output_type": "execute_result"
    }
   ],
   "source": [
    "df_unido.head(5)"
   ]
  },
  {
   "cell_type": "markdown",
   "id": "78222dfd-f1da-4551-9ba0-097bbb8a32c9",
   "metadata": {},
   "source": [
    "Ya que nos interesa ver el rendimiento academico de los estudiantes vamos a usar las columnas del NEM Y el AGNO_EGRESO, pero primero queremos ver si hay que hacer alguna conversion de tipo de dato:"
   ]
  },
  {
   "cell_type": "code",
   "execution_count": 20,
   "id": "196e91cd-476e-4c32-b7f7-3dba4ea208cb",
   "metadata": {},
   "outputs": [
    {
     "name": "stdout",
     "output_type": "stream",
     "text": [
      "<class 'pandas.core.frame.DataFrame'>\n",
      "Index: 1419898 entries, 0 to 212886\n",
      "Data columns (total 8 columns):\n",
      " #   Column       Non-Null Count    Dtype \n",
      "---  ------       --------------    ----- \n",
      " 0   RBD          1419898 non-null  int64 \n",
      " 1   COD_DEPE     1419898 non-null  int64 \n",
      " 2   AGNO_EGRESO  1419898 non-null  int64 \n",
      " 3   MRUN         1419898 non-null  int64 \n",
      " 4   NEM          1419898 non-null  object\n",
      " 5   PERCENTIL    1419898 non-null  int64 \n",
      " 6   PUESTO_10    1419898 non-null  object\n",
      " 7   PUESTO_30    1419898 non-null  object\n",
      "dtypes: int64(5), object(3)\n",
      "memory usage: 97.5+ MB\n"
     ]
    }
   ],
   "source": [
    "df_unido.info()"
   ]
  },
  {
   "cell_type": "markdown",
   "id": "c723f833-8e4b-44c6-961c-9cf2ca44537e",
   "metadata": {},
   "source": [
    "Nos interesaria convertir la columna NEM en un objeto de tipo float"
   ]
  },
  {
   "cell_type": "code",
   "execution_count": 22,
   "id": "955a9cb2-169a-456e-98eb-4eba569d2dcc",
   "metadata": {},
   "outputs": [
    {
     "name": "stdout",
     "output_type": "stream",
     "text": [
      "<class 'pandas.core.frame.DataFrame'>\n",
      "Index: 1419898 entries, 0 to 212886\n",
      "Data columns (total 8 columns):\n",
      " #   Column       Non-Null Count    Dtype  \n",
      "---  ------       --------------    -----  \n",
      " 0   RBD          1419898 non-null  int64  \n",
      " 1   COD_DEPE     1419898 non-null  int64  \n",
      " 2   AGNO_EGRESO  1419898 non-null  int64  \n",
      " 3   MRUN         1419898 non-null  int64  \n",
      " 4   NEM          1419898 non-null  float64\n",
      " 5   PERCENTIL    1419898 non-null  int64  \n",
      " 6   PUESTO_10    1419898 non-null  object \n",
      " 7   PUESTO_30    1419898 non-null  object \n",
      "dtypes: float64(1), int64(5), object(2)\n",
      "memory usage: 97.5+ MB\n"
     ]
    }
   ],
   "source": [
    "df_unido['NEM'] = df_unido['NEM'].str.replace(',', '.')\n",
    "df_unido['NEM'] = df_unido['NEM'].astype(float)\n",
    "df_unido.info()"
   ]
  },
  {
   "cell_type": "markdown",
   "id": "0850220d-ce10-4ace-8a31-bff4f6608c39",
   "metadata": {},
   "source": [
    "Ahora que tenemos nuestros tipos de datos correctos, nos gustaria ver la distribución del NEM en cada año."
   ]
  },
  {
   "cell_type": "code",
   "execution_count": 35,
   "id": "ea9ec0d0-83e0-4121-8c2e-b69eda6b28f9",
   "metadata": {},
   "outputs": [
    {
     "data": {
      "text/plain": [
       "Text(0.5, 0, 'Año de egreso')"
      ]
     },
     "execution_count": 35,
     "metadata": {},
     "output_type": "execute_result"
    },
    {
     "data": {
      "image/png": "[encoded data removed]",
      "text/plain": [
       "<Figure size 600x400 with 1 Axes>"
      ]
     },
     "metadata": {},
     "output_type": "display_data"
    }
   ],
   "source": [
    "fig, ax = plt.subplots(figsize=(6, 4))\n",
    "sns.boxplot(\n",
    "    data=df_unido,\n",
    "    x='AGNO_EGRESO',\n",
    "    y='NEM'\n",
    ")\n",
    "ax.set_xlabel('Año de egreso')"
   ]
  },
  {
   "cell_type": "markdown",
   "id": "c2001531-bd07-4723-9b6f-c7838b69d9dd",
   "metadata": {},
   "source": [
    "En base a una de nuestra preguntas formuladas, podemos ver que en la distribución del nem de los estudiantes egresados ha ido lentamente en aumento, siendo a partir de 2020 donde empezo a haber un aumento significativo, esto puede deberse principalmente a la pandemia del COVID y tambien por consecuente la digitalización de muchos de los sistemas escolares requerido por la situación."
   ]
  }
 ],
 "metadata": {
  "kernelspec": {
   "display_name": "Python 3 (ipykernel)",
   "language": "python",
   "name": "python3"
  },
  "language_info": {
   "codemirror_mode": {
    "name": "ipython",
    "version": 3
   },
   "file_extension": ".py",
   "mimetype": "text/x-python",
   "name": "python",
   "nbconvert_exporter": "python",
   "pygments_lexer": "ipython3",
   "version": "3.12.9"
  }
 },
 "nbformat": 4,
 "nbformat_minor": 5
}
